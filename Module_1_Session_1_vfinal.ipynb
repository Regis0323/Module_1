{
  "cells": [
    {
      "cell_type": "markdown",
      "metadata": {
        "id": "view-in-github",
        "colab_type": "text"
      },
      "source": [
        "<a href=\"https://colab.research.google.com/github/Regis0323/Module_1/blob/main/Module_1_Session_1_vfinal.ipynb\" target=\"_parent\"><img src=\"https://colab.research.google.com/assets/colab-badge.svg\" alt=\"Open In Colab\"/></a>"
      ]
    },
    {
      "cell_type": "markdown",
      "id": "67fcc457",
      "metadata": {
        "id": "67fcc457"
      },
      "source": [
        "<center> <h1> IABE Data Science Certificate - Module 1 - Session 1  </h1>\n",
        "<h2> <span style=\"color:blue\"> Programming session: Foundations of actuarial learning </h2> </center>\n",
        "\n",
        "<center> <h2> <span style=\"color:black\"> 14th November, 2024  </h2> </center>"
      ]
    },
    {
      "cell_type": "markdown",
      "id": "dab9118e",
      "metadata": {
        "id": "dab9118e"
      },
      "source": [
        "# 1. Introduction <a name=\"Introduction\"></a>\n",
        "Welcome to the first programming session of the Actuarial Data Scientist training program. This class initiates a serie of twelve practical sessions, which will be divided in three main modules. These presentations aim to concretely illustrate how a variety of data science techniques can be applied in an actuarial context.\n",
        "<br />\n",
        "<br />\n",
        "The first session will start by introducing the working environment to participants and present how to realize basic operations such as loading packages and data. Afterwards, an initial dataset will be analyzed. This investigation will allow us to display notions of outliers, null values and collinearity. Finally, the session will touch upon some initial statistical concepts, such as regressions and some best practice like splitting dataset into train and test sets or using a K-Fold cross validation algorithm.\n",
        "\n",
        "<ins>**Table of contents**</ins>\n",
        "\n",
        "1. [Introduction](#Introduction)\n",
        "2. [IT guidelines](#ITguidelines)\n",
        "3. [Importing packages](#Importing_packages)\n",
        "4. [Loading data](#Loading_data)\n",
        "5. [Data analysis](#Data_analysis)<br />\n",
        "    5.1. [Outliers](#Outliers)<br />\n",
        "    5.2. [NaN values](#NaN_values)<br />\n",
        "    5.3. [Variable importance](#Variable_importance)<br />\n",
        "6. [Traning/Test split, K-Fold & alternatives](#Training/Test)<br />\n",
        "    6.1. [Classic Training/Test split](#Classic_Training/Test_split)<br />\n",
        "    6.2. [K-fold cross validation](#K-fold_cross_validation)<br />\n",
        "    6.3. [Stratified Kfold & Leave-one-out cross validation](#Stratified_Kfold_&_LOOC_validation)<br />\n",
        "7. [Summary](#Summary)<br />\n",
        "\n",
        "Attendants are expected to have some initial familiarity with Python. Any affinity with other progamming languages will prove useful to get up to speed.\n",
        "In case issues arise, [Stackoverflow](https://stackoverflow.com/questions/tagged/python) is a very helpful resource to debug and find support. Milliman organizers are also reachable by mail."
      ]
    },
    {
      "cell_type": "markdown",
      "id": "5c553b7f",
      "metadata": {
        "id": "5c553b7f"
      },
      "source": [
        "# 2. IT guidelines <a name=\"ITguidelines\"></a>\n",
        "\n",
        "Sessions will be primarily using Colab to showcase applications in Python with explanatory comments. Participants can either use Colab or Jupyter notebook to run the different scripts.\n",
        "\n",
        "<ins>**Colab**</ins>\n",
        "\n",
        "Google Colaboratory (abbreviated as Colab) is an online environment where it is possible to easily write and execute code. Jupyter notebooks can also be quickly updated on the Colab platform. For this purpose, first connect on [Colab](https://colab.research.google.com/), sign in with your Google account, select the option **Upload** and drag and drop the Jupyter Notebook file (.ipynb extension). Further resources to understand how Colab works are availaible in this brief [tutorial]( https://colab.research.google.com/drive/16pBJQePbqkz3QFV54L4NIkOn1kwpuRrj).\n",
        "\n",
        "In case all packages are not installed by default, please use command ```!pip install <package name>```. ```!``` allows the user to send prompts directly to the terminal (instead of Python), a necessary step to install packages. Colab uses Python version 3.10.12 and relies on a Linux architecture. It is hence possible to send Linux commands like ```!ls``` to locate where the terminal is opened, ```!lsb_release -a``` to get practical information on the operating system or ```!mkdir ./New_folder_name``` to create a new folder in the current folder.      \n",
        "\n",
        "<ins>**Jupyter Notebook**</ins>\n",
        "\n",
        "Jupyter Notebook is an alternative installed locally to run notebooks. Here is the easiest way to install it:\n",
        "1. Install [Anaconda](https://www.anaconda.com/download/success). Afterwards, Conda Navigator and Conda Prompt (terminal) will be accessible on your computer.\n",
        "2. Create a dedicated Anaconda environment: You can either open Anaconda Navigator, select **Environments > Create**), name the environment and select Python version 3.10.15. Otherwise, you can open a Conda terminal (called Anaconda prompt) and execute the command ```conda create --name <myenv> python=3.10.15``` where `<myenv>` must be remplaced by the name of your environment. Different solutions exist given that Conda Navigator is a graphical interface built upon Conda.\n",
        "3. Install Jupyter Notebook with this new environment: In jupyter Notebook, select **Home**, your new environment and install Jupyter notebook.\n",
        "\n",
        "Once it is properly installed, you can either start Jupyter Notebook using a Windows shortcut or by first opening Anaconda Navigator then launching Jupyter Notebook. Alternatively, you can open the Anaconda terminal, activate your environment (type ```conda activate <myenv>```), then open the application with the command ```jupyter notebook```.    \n",
        "\n",
        "<ins>**Python IDE alternatives**</ins>\n",
        "\n",
        "While Colab or Jupyter Notebook are initially easier to use, full-fledged IDE (integrated development environment) are more appropriate to write code efficiently. For instance, it is easier to explore datasets, debug, refactor variables or restructure code. Additionally, Github is better integrated and code completion is available to speed up coding.\n",
        "\n",
        "To use an IDE, you can either install it through Anaconda or separately. Three alternatives are listed below:\n",
        "\n",
        "Pycharm: [Download link](https://www.jetbrains.com/pycharm/download/other.html)\n",
        "<br />\n",
        "Spyder: [Download link](https://www.spyder-ide.org/download/)\n",
        "<br />\n",
        "Visual Studio: [Download link](https://visualstudio.microsoft.com/downloads/)\n",
        "<br />"
      ]
    },
    {
      "cell_type": "markdown",
      "id": "9b82c721",
      "metadata": {
        "id": "9b82c721"
      },
      "source": [
        "## Speakers\n",
        "\n",
        "**Daniël Van Dam**\n",
        "<br />\n",
        "Daniël is a consultant with 9+ years of experience in the financial sector, with experience in AI and data science.\n",
        "<br />\n",
        "Mail address: daniel.vandam@milliman.com\n",
        "\n",
        "\n",
        "**Raymond van Es**\n",
        "<br />\n",
        "Raymond is a consultant with 20+ years of experience in financial services, with a focus on data science and modelling.\n",
        "<br />\n",
        "Mail address: raymond.vanEs@milliman.com\n",
        "\n",
        "\n",
        "## Resources\n",
        "<ins>**Books**</ins>\n",
        "<br />\n",
        "James, G., Witten, D., Hastie, T., Tibshirani, R., & Taylor, J. (2023). An introduction to statistical learning: With applications in python (2023rd ed.). New York, NY: Springer.\n",
        "<br />\n",
        "Charpentier, A. (Ed.). (2016). Computational actuarial science with R. London, England: CRC Press.\n",
        "<br />\n",
        "<ins>**Dataset**</ins>\n",
        "<br />\n",
        "Ames Housing dataset: [Kaggle](https://www.kaggle.com/datasets/prevek18/ames-housing-dataset)"
      ]
    },
    {
      "cell_type": "markdown",
      "id": "62989c17",
      "metadata": {
        "id": "62989c17"
      },
      "source": [
        "# 3. Importing packages <a name=\"Importing_packages\"></a>\n",
        "First, different Python packages must be loaded to import additional functions. Using **Colab**, most packages will have already been installed by default. Otherwise, use command ```!pip install <package name>```. Please, refer to the explanations provided above in the Colab section for further information. In case **Anaconda (e.g. Jupyter Notebook)** is used, additional packages must be initially installed before importing them. A tutorial is available [here](https://www.tutorialspoint.com/how-do-i-install-python-packages-in-anaconda).\n",
        "<br />\n",
        "<br />\n",
        "Packages are loaded using command ```import```. Afterwards, the name of a package can be abbreviated with ```as```. For heavy packages such as ```sklearn```, it is more computationally efficient to import only specific functions instead of all of them. It is not compulsory, only a good practice."
      ]
    },
    {
      "cell_type": "code",
      "execution_count": 1,
      "id": "02cb2751",
      "metadata": {
        "id": "02cb2751",
        "tags": []
      },
      "outputs": [],
      "source": [
        "import pandas as pd\n",
        "import numpy as np\n",
        "import seaborn as sns\n",
        "import matplotlib.pyplot as plt\n",
        "import plotly\n",
        "import time\n",
        "from collections import Counter\n",
        "from scipy import stats\n",
        "from sklearn.linear_model import LinearRegression\n",
        "from sklearn.preprocessing import PolynomialFeatures\n",
        "from sklearn.model_selection import train_test_split\n",
        "from sklearn.model_selection import KFold\n",
        "from sklearn.model_selection import StratifiedKFold\n",
        "from sklearn.model_selection import LeaveOneOut"
      ]
    },
    {
      "cell_type": "markdown",
      "id": "16c753c2",
      "metadata": {
        "id": "16c753c2"
      },
      "source": [
        "# 4. Loading data <a name=\"Loading_data\"></a>\n",
        "Once packages are loaded, CSV data can be extracted using function ```read_csv()``` from pandas. The Ames housing dataset consists on 2930 observations on residential homes in Iowa, USA. There are 79 explanatory variables as well as the target variable, the house price. This dataset will be an excellent introduction to properly handle data and do some quick modelization.   \n",
        "<br />\n",
        "<ins>**Colab:**</ins>\n",
        "<br />\n",
        "Using Colab, you can upload the dataset in the **sample_data** folder and copy its path. In this example: ```/content/sample_data/AmesHousing.csv```\n",
        "<br />\n",
        "<br />\n",
        "<ins>**Jupyter Notebook:**</ins>\n",
        "<br />\n",
        "With Jupyter Notebook, it is either possible to link a CSV file locally or online. Please note that a local path must use character ```/``` instead of ```\\```. For example, ```C:/Users/AmesHousing.csv```.\n",
        "<br />\n",
        "<br />\n",
        "To get the path of your CSV file:<br />\n",
        "1. Open Windows File Explorer\n",
        "2. Navigate to the file's location\n",
        "3. Select the CSV file pressing ```Shift + Right-click```\n",
        "4. Click option **copy as path** (or equivalent in your own language)"
      ]
    },
    {
      "cell_type": "code",
      "execution_count": 3,
      "id": "afe135de",
      "metadata": {
        "id": "afe135de",
        "tags": []
      },
      "outputs": [],
      "source": [
        "ames_data = pd.read_csv(\"/content/AmesHousing.csv\")"
      ]
    },
    {
      "cell_type": "markdown",
      "id": "Jxqa7xyVnFNo",
      "metadata": {
        "id": "Jxqa7xyVnFNo"
      },
      "source": [
        "# 5. Data analysis <a name=\"Data_analysis\"></a>\n",
        "\n"
      ]
    },
    {
      "cell_type": "markdown",
      "id": "c3429b60",
      "metadata": {
        "id": "c3429b60"
      },
      "source": [
        "The first observations of the dataset are diplayed below. Function ```head()``` is used to vizualize the initial rows of the dataframe."
      ]
    },
    {
      "cell_type": "code",
      "execution_count": 4,
      "id": "U8iXHAP7UlLf",
      "metadata": {
        "colab": {
          "base_uri": "https://localhost:8080/",
          "height": 270
        },
        "id": "U8iXHAP7UlLf",
        "outputId": "c1f11a18-74db-41f0-e763-09eb07f84b76",
        "tags": []
      },
      "outputs": [
        {
          "output_type": "display_data",
          "data": {
            "text/plain": [
              "   Order        PID  MS SubClass MS Zoning  Lot Frontage  Lot Area Street  \\\n",
              "0      1  526301100           20        RL         141.0     31770   Pave   \n",
              "1      2  526350040           20        RH          80.0     11622   Pave   \n",
              "2      3  526351010           20        RL          81.0     14267   Pave   \n",
              "3      4  526353030           20        RL          93.0     11160   Pave   \n",
              "4      5  527105010           60        RL          74.0     13830   Pave   \n",
              "\n",
              "  Alley Lot Shape Land Contour  ... Pool Area Pool QC  Fence Misc Feature  \\\n",
              "0   NaN       IR1          Lvl  ...         0     NaN    NaN          NaN   \n",
              "1   NaN       Reg          Lvl  ...         0     NaN  MnPrv          NaN   \n",
              "2   NaN       IR1          Lvl  ...         0     NaN    NaN         Gar2   \n",
              "3   NaN       Reg          Lvl  ...         0     NaN    NaN          NaN   \n",
              "4   NaN       IR1          Lvl  ...         0     NaN  MnPrv          NaN   \n",
              "\n",
              "  Misc Val Mo Sold Yr Sold Sale Type  Sale Condition  SalePrice  \n",
              "0        0       5    2010       WD           Normal     215000  \n",
              "1        0       6    2010       WD           Normal     105000  \n",
              "2    12500       6    2010       WD           Normal     172000  \n",
              "3        0       4    2010       WD           Normal     244000  \n",
              "4        0       3    2010       WD           Normal     189900  \n",
              "\n",
              "[5 rows x 82 columns]"
            ],
            "text/html": [
              "\n",
              "  <div id=\"df-ec0e84bd-4877-4ed3-a416-63e27386c375\" class=\"colab-df-container\">\n",
              "    <div>\n",
              "<style scoped>\n",
              "    .dataframe tbody tr th:only-of-type {\n",
              "        vertical-align: middle;\n",
              "    }\n",
              "\n",
              "    .dataframe tbody tr th {\n",
              "        vertical-align: top;\n",
              "    }\n",
              "\n",
              "    .dataframe thead th {\n",
              "        text-align: right;\n",
              "    }\n",
              "</style>\n",
              "<table border=\"1\" class=\"dataframe\">\n",
              "  <thead>\n",
              "    <tr style=\"text-align: right;\">\n",
              "      <th></th>\n",
              "      <th>Order</th>\n",
              "      <th>PID</th>\n",
              "      <th>MS SubClass</th>\n",
              "      <th>MS Zoning</th>\n",
              "      <th>Lot Frontage</th>\n",
              "      <th>Lot Area</th>\n",
              "      <th>Street</th>\n",
              "      <th>Alley</th>\n",
              "      <th>Lot Shape</th>\n",
              "      <th>Land Contour</th>\n",
              "      <th>...</th>\n",
              "      <th>Pool Area</th>\n",
              "      <th>Pool QC</th>\n",
              "      <th>Fence</th>\n",
              "      <th>Misc Feature</th>\n",
              "      <th>Misc Val</th>\n",
              "      <th>Mo Sold</th>\n",
              "      <th>Yr Sold</th>\n",
              "      <th>Sale Type</th>\n",
              "      <th>Sale Condition</th>\n",
              "      <th>SalePrice</th>\n",
              "    </tr>\n",
              "  </thead>\n",
              "  <tbody>\n",
              "    <tr>\n",
              "      <th>0</th>\n",
              "      <td>1</td>\n",
              "      <td>526301100</td>\n",
              "      <td>20</td>\n",
              "      <td>RL</td>\n",
              "      <td>141.0</td>\n",
              "      <td>31770</td>\n",
              "      <td>Pave</td>\n",
              "      <td>NaN</td>\n",
              "      <td>IR1</td>\n",
              "      <td>Lvl</td>\n",
              "      <td>...</td>\n",
              "      <td>0</td>\n",
              "      <td>NaN</td>\n",
              "      <td>NaN</td>\n",
              "      <td>NaN</td>\n",
              "      <td>0</td>\n",
              "      <td>5</td>\n",
              "      <td>2010</td>\n",
              "      <td>WD</td>\n",
              "      <td>Normal</td>\n",
              "      <td>215000</td>\n",
              "    </tr>\n",
              "    <tr>\n",
              "      <th>1</th>\n",
              "      <td>2</td>\n",
              "      <td>526350040</td>\n",
              "      <td>20</td>\n",
              "      <td>RH</td>\n",
              "      <td>80.0</td>\n",
              "      <td>11622</td>\n",
              "      <td>Pave</td>\n",
              "      <td>NaN</td>\n",
              "      <td>Reg</td>\n",
              "      <td>Lvl</td>\n",
              "      <td>...</td>\n",
              "      <td>0</td>\n",
              "      <td>NaN</td>\n",
              "      <td>MnPrv</td>\n",
              "      <td>NaN</td>\n",
              "      <td>0</td>\n",
              "      <td>6</td>\n",
              "      <td>2010</td>\n",
              "      <td>WD</td>\n",
              "      <td>Normal</td>\n",
              "      <td>105000</td>\n",
              "    </tr>\n",
              "    <tr>\n",
              "      <th>2</th>\n",
              "      <td>3</td>\n",
              "      <td>526351010</td>\n",
              "      <td>20</td>\n",
              "      <td>RL</td>\n",
              "      <td>81.0</td>\n",
              "      <td>14267</td>\n",
              "      <td>Pave</td>\n",
              "      <td>NaN</td>\n",
              "      <td>IR1</td>\n",
              "      <td>Lvl</td>\n",
              "      <td>...</td>\n",
              "      <td>0</td>\n",
              "      <td>NaN</td>\n",
              "      <td>NaN</td>\n",
              "      <td>Gar2</td>\n",
              "      <td>12500</td>\n",
              "      <td>6</td>\n",
              "      <td>2010</td>\n",
              "      <td>WD</td>\n",
              "      <td>Normal</td>\n",
              "      <td>172000</td>\n",
              "    </tr>\n",
              "    <tr>\n",
              "      <th>3</th>\n",
              "      <td>4</td>\n",
              "      <td>526353030</td>\n",
              "      <td>20</td>\n",
              "      <td>RL</td>\n",
              "      <td>93.0</td>\n",
              "      <td>11160</td>\n",
              "      <td>Pave</td>\n",
              "      <td>NaN</td>\n",
              "      <td>Reg</td>\n",
              "      <td>Lvl</td>\n",
              "      <td>...</td>\n",
              "      <td>0</td>\n",
              "      <td>NaN</td>\n",
              "      <td>NaN</td>\n",
              "      <td>NaN</td>\n",
              "      <td>0</td>\n",
              "      <td>4</td>\n",
              "      <td>2010</td>\n",
              "      <td>WD</td>\n",
              "      <td>Normal</td>\n",
              "      <td>244000</td>\n",
              "    </tr>\n",
              "    <tr>\n",
              "      <th>4</th>\n",
              "      <td>5</td>\n",
              "      <td>527105010</td>\n",
              "      <td>60</td>\n",
              "      <td>RL</td>\n",
              "      <td>74.0</td>\n",
              "      <td>13830</td>\n",
              "      <td>Pave</td>\n",
              "      <td>NaN</td>\n",
              "      <td>IR1</td>\n",
              "      <td>Lvl</td>\n",
              "      <td>...</td>\n",
              "      <td>0</td>\n",
              "      <td>NaN</td>\n",
              "      <td>MnPrv</td>\n",
              "      <td>NaN</td>\n",
              "      <td>0</td>\n",
              "      <td>3</td>\n",
              "      <td>2010</td>\n",
              "      <td>WD</td>\n",
              "      <td>Normal</td>\n",
              "      <td>189900</td>\n",
              "    </tr>\n",
              "  </tbody>\n",
              "</table>\n",
              "<p>5 rows × 82 columns</p>\n",
              "</div>\n",
              "    <div class=\"colab-df-buttons\">\n",
              "\n",
              "  <div class=\"colab-df-container\">\n",
              "    <button class=\"colab-df-convert\" onclick=\"convertToInteractive('df-ec0e84bd-4877-4ed3-a416-63e27386c375')\"\n",
              "            title=\"Convert this dataframe to an interactive table.\"\n",
              "            style=\"display:none;\">\n",
              "\n",
              "  <svg xmlns=\"http://www.w3.org/2000/svg\" height=\"24px\" viewBox=\"0 -960 960 960\">\n",
              "    <path d=\"M120-120v-720h720v720H120Zm60-500h600v-160H180v160Zm220 220h160v-160H400v160Zm0 220h160v-160H400v160ZM180-400h160v-160H180v160Zm440 0h160v-160H620v160ZM180-180h160v-160H180v160Zm440 0h160v-160H620v160Z\"/>\n",
              "  </svg>\n",
              "    </button>\n",
              "\n",
              "  <style>\n",
              "    .colab-df-container {\n",
              "      display:flex;\n",
              "      gap: 12px;\n",
              "    }\n",
              "\n",
              "    .colab-df-convert {\n",
              "      background-color: #E8F0FE;\n",
              "      border: none;\n",
              "      border-radius: 50%;\n",
              "      cursor: pointer;\n",
              "      display: none;\n",
              "      fill: #1967D2;\n",
              "      height: 32px;\n",
              "      padding: 0 0 0 0;\n",
              "      width: 32px;\n",
              "    }\n",
              "\n",
              "    .colab-df-convert:hover {\n",
              "      background-color: #E2EBFA;\n",
              "      box-shadow: 0px 1px 2px rgba(60, 64, 67, 0.3), 0px 1px 3px 1px rgba(60, 64, 67, 0.15);\n",
              "      fill: #174EA6;\n",
              "    }\n",
              "\n",
              "    .colab-df-buttons div {\n",
              "      margin-bottom: 4px;\n",
              "    }\n",
              "\n",
              "    [theme=dark] .colab-df-convert {\n",
              "      background-color: #3B4455;\n",
              "      fill: #D2E3FC;\n",
              "    }\n",
              "\n",
              "    [theme=dark] .colab-df-convert:hover {\n",
              "      background-color: #434B5C;\n",
              "      box-shadow: 0px 1px 3px 1px rgba(0, 0, 0, 0.15);\n",
              "      filter: drop-shadow(0px 1px 2px rgba(0, 0, 0, 0.3));\n",
              "      fill: #FFFFFF;\n",
              "    }\n",
              "  </style>\n",
              "\n",
              "    <script>\n",
              "      const buttonEl =\n",
              "        document.querySelector('#df-ec0e84bd-4877-4ed3-a416-63e27386c375 button.colab-df-convert');\n",
              "      buttonEl.style.display =\n",
              "        google.colab.kernel.accessAllowed ? 'block' : 'none';\n",
              "\n",
              "      async function convertToInteractive(key) {\n",
              "        const element = document.querySelector('#df-ec0e84bd-4877-4ed3-a416-63e27386c375');\n",
              "        const dataTable =\n",
              "          await google.colab.kernel.invokeFunction('convertToInteractive',\n",
              "                                                    [key], {});\n",
              "        if (!dataTable) return;\n",
              "\n",
              "        const docLinkHtml = 'Like what you see? Visit the ' +\n",
              "          '<a target=\"_blank\" href=https://colab.research.google.com/notebooks/data_table.ipynb>data table notebook</a>'\n",
              "          + ' to learn more about interactive tables.';\n",
              "        element.innerHTML = '';\n",
              "        dataTable['output_type'] = 'display_data';\n",
              "        await google.colab.output.renderOutput(dataTable, element);\n",
              "        const docLink = document.createElement('div');\n",
              "        docLink.innerHTML = docLinkHtml;\n",
              "        element.appendChild(docLink);\n",
              "      }\n",
              "    </script>\n",
              "  </div>\n",
              "\n",
              "\n",
              "<div id=\"df-8b842fa1-feef-465d-90d9-237664ac442e\">\n",
              "  <button class=\"colab-df-quickchart\" onclick=\"quickchart('df-8b842fa1-feef-465d-90d9-237664ac442e')\"\n",
              "            title=\"Suggest charts\"\n",
              "            style=\"display:none;\">\n",
              "\n",
              "<svg xmlns=\"http://www.w3.org/2000/svg\" height=\"24px\"viewBox=\"0 0 24 24\"\n",
              "     width=\"24px\">\n",
              "    <g>\n",
              "        <path d=\"M19 3H5c-1.1 0-2 .9-2 2v14c0 1.1.9 2 2 2h14c1.1 0 2-.9 2-2V5c0-1.1-.9-2-2-2zM9 17H7v-7h2v7zm4 0h-2V7h2v10zm4 0h-2v-4h2v4z\"/>\n",
              "    </g>\n",
              "</svg>\n",
              "  </button>\n",
              "\n",
              "<style>\n",
              "  .colab-df-quickchart {\n",
              "      --bg-color: #E8F0FE;\n",
              "      --fill-color: #1967D2;\n",
              "      --hover-bg-color: #E2EBFA;\n",
              "      --hover-fill-color: #174EA6;\n",
              "      --disabled-fill-color: #AAA;\n",
              "      --disabled-bg-color: #DDD;\n",
              "  }\n",
              "\n",
              "  [theme=dark] .colab-df-quickchart {\n",
              "      --bg-color: #3B4455;\n",
              "      --fill-color: #D2E3FC;\n",
              "      --hover-bg-color: #434B5C;\n",
              "      --hover-fill-color: #FFFFFF;\n",
              "      --disabled-bg-color: #3B4455;\n",
              "      --disabled-fill-color: #666;\n",
              "  }\n",
              "\n",
              "  .colab-df-quickchart {\n",
              "    background-color: var(--bg-color);\n",
              "    border: none;\n",
              "    border-radius: 50%;\n",
              "    cursor: pointer;\n",
              "    display: none;\n",
              "    fill: var(--fill-color);\n",
              "    height: 32px;\n",
              "    padding: 0;\n",
              "    width: 32px;\n",
              "  }\n",
              "\n",
              "  .colab-df-quickchart:hover {\n",
              "    background-color: var(--hover-bg-color);\n",
              "    box-shadow: 0 1px 2px rgba(60, 64, 67, 0.3), 0 1px 3px 1px rgba(60, 64, 67, 0.15);\n",
              "    fill: var(--button-hover-fill-color);\n",
              "  }\n",
              "\n",
              "  .colab-df-quickchart-complete:disabled,\n",
              "  .colab-df-quickchart-complete:disabled:hover {\n",
              "    background-color: var(--disabled-bg-color);\n",
              "    fill: var(--disabled-fill-color);\n",
              "    box-shadow: none;\n",
              "  }\n",
              "\n",
              "  .colab-df-spinner {\n",
              "    border: 2px solid var(--fill-color);\n",
              "    border-color: transparent;\n",
              "    border-bottom-color: var(--fill-color);\n",
              "    animation:\n",
              "      spin 1s steps(1) infinite;\n",
              "  }\n",
              "\n",
              "  @keyframes spin {\n",
              "    0% {\n",
              "      border-color: transparent;\n",
              "      border-bottom-color: var(--fill-color);\n",
              "      border-left-color: var(--fill-color);\n",
              "    }\n",
              "    20% {\n",
              "      border-color: transparent;\n",
              "      border-left-color: var(--fill-color);\n",
              "      border-top-color: var(--fill-color);\n",
              "    }\n",
              "    30% {\n",
              "      border-color: transparent;\n",
              "      border-left-color: var(--fill-color);\n",
              "      border-top-color: var(--fill-color);\n",
              "      border-right-color: var(--fill-color);\n",
              "    }\n",
              "    40% {\n",
              "      border-color: transparent;\n",
              "      border-right-color: var(--fill-color);\n",
              "      border-top-color: var(--fill-color);\n",
              "    }\n",
              "    60% {\n",
              "      border-color: transparent;\n",
              "      border-right-color: var(--fill-color);\n",
              "    }\n",
              "    80% {\n",
              "      border-color: transparent;\n",
              "      border-right-color: var(--fill-color);\n",
              "      border-bottom-color: var(--fill-color);\n",
              "    }\n",
              "    90% {\n",
              "      border-color: transparent;\n",
              "      border-bottom-color: var(--fill-color);\n",
              "    }\n",
              "  }\n",
              "</style>\n",
              "\n",
              "  <script>\n",
              "    async function quickchart(key) {\n",
              "      const quickchartButtonEl =\n",
              "        document.querySelector('#' + key + ' button');\n",
              "      quickchartButtonEl.disabled = true;  // To prevent multiple clicks.\n",
              "      quickchartButtonEl.classList.add('colab-df-spinner');\n",
              "      try {\n",
              "        const charts = await google.colab.kernel.invokeFunction(\n",
              "            'suggestCharts', [key], {});\n",
              "      } catch (error) {\n",
              "        console.error('Error during call to suggestCharts:', error);\n",
              "      }\n",
              "      quickchartButtonEl.classList.remove('colab-df-spinner');\n",
              "      quickchartButtonEl.classList.add('colab-df-quickchart-complete');\n",
              "    }\n",
              "    (() => {\n",
              "      let quickchartButtonEl =\n",
              "        document.querySelector('#df-8b842fa1-feef-465d-90d9-237664ac442e button');\n",
              "      quickchartButtonEl.style.display =\n",
              "        google.colab.kernel.accessAllowed ? 'block' : 'none';\n",
              "    })();\n",
              "  </script>\n",
              "</div>\n",
              "\n",
              "    </div>\n",
              "  </div>\n"
            ],
            "application/vnd.google.colaboratory.intrinsic+json": {
              "type": "dataframe"
            }
          },
          "metadata": {}
        }
      ],
      "source": [
        "display(ames_data.head())"
      ]
    },
    {
      "cell_type": "markdown",
      "id": "bOwyA3NtUupV",
      "metadata": {
        "id": "bOwyA3NtUupV"
      },
      "source": [
        "Variable data types are also investigated. Function ```dtypes``` allows to see the type of data, while function ```value_counts()``` counts the number of variables that fall into each different data type category."
      ]
    },
    {
      "cell_type": "code",
      "execution_count": 5,
      "id": "kzuTVcIcUoo4",
      "metadata": {
        "colab": {
          "base_uri": "https://localhost:8080/"
        },
        "id": "kzuTVcIcUoo4",
        "outputId": "9277c822-4d35-489f-98c8-d5de8214066e",
        "tags": []
      },
      "outputs": [
        {
          "output_type": "stream",
          "name": "stdout",
          "text": [
            "object     43\n",
            "int64      28\n",
            "float64    11\n",
            "Name: count, dtype: int64\n"
          ]
        }
      ],
      "source": [
        "# See data types\n",
        "print(ames_data.dtypes.value_counts())"
      ]
    },
    {
      "cell_type": "markdown",
      "id": "7TcUaP_qUuQJ",
      "metadata": {
        "id": "7TcUaP_qUuQJ"
      },
      "source": [
        "General information on the dataset, such as name of variables, datatype and number of non-null observations per variable is diplayed below using function ```info()``` on the dataframe. Notice that some variables contain NaN values."
      ]
    },
    {
      "cell_type": "code",
      "execution_count": 6,
      "id": "25eb5a54",
      "metadata": {
        "id": "25eb5a54",
        "scrolled": true,
        "tags": [],
        "colab": {
          "base_uri": "https://localhost:8080/"
        },
        "outputId": "329e7f5f-a8fd-46c8-8b17-c2612e55e529"
      },
      "outputs": [
        {
          "output_type": "stream",
          "name": "stdout",
          "text": [
            "<class 'pandas.core.frame.DataFrame'>\n",
            "RangeIndex: 2930 entries, 0 to 2929\n",
            "Data columns (total 82 columns):\n",
            " #   Column           Non-Null Count  Dtype  \n",
            "---  ------           --------------  -----  \n",
            " 0   Order            2930 non-null   int64  \n",
            " 1   PID              2930 non-null   int64  \n",
            " 2   MS SubClass      2930 non-null   int64  \n",
            " 3   MS Zoning        2930 non-null   object \n",
            " 4   Lot Frontage     2440 non-null   float64\n",
            " 5   Lot Area         2930 non-null   int64  \n",
            " 6   Street           2930 non-null   object \n",
            " 7   Alley            198 non-null    object \n",
            " 8   Lot Shape        2930 non-null   object \n",
            " 9   Land Contour     2930 non-null   object \n",
            " 10  Utilities        2930 non-null   object \n",
            " 11  Lot Config       2930 non-null   object \n",
            " 12  Land Slope       2930 non-null   object \n",
            " 13  Neighborhood     2930 non-null   object \n",
            " 14  Condition 1      2930 non-null   object \n",
            " 15  Condition 2      2930 non-null   object \n",
            " 16  Bldg Type        2930 non-null   object \n",
            " 17  House Style      2930 non-null   object \n",
            " 18  Overall Qual     2930 non-null   int64  \n",
            " 19  Overall Cond     2930 non-null   int64  \n",
            " 20  Year Built       2930 non-null   int64  \n",
            " 21  Year Remod/Add   2930 non-null   int64  \n",
            " 22  Roof Style       2930 non-null   object \n",
            " 23  Roof Matl        2930 non-null   object \n",
            " 24  Exterior 1st     2930 non-null   object \n",
            " 25  Exterior 2nd     2930 non-null   object \n",
            " 26  Mas Vnr Type     1155 non-null   object \n",
            " 27  Mas Vnr Area     2907 non-null   float64\n",
            " 28  Exter Qual       2930 non-null   object \n",
            " 29  Exter Cond       2930 non-null   object \n",
            " 30  Foundation       2930 non-null   object \n",
            " 31  Bsmt Qual        2850 non-null   object \n",
            " 32  Bsmt Cond        2850 non-null   object \n",
            " 33  Bsmt Exposure    2847 non-null   object \n",
            " 34  BsmtFin Type 1   2850 non-null   object \n",
            " 35  BsmtFin SF 1     2929 non-null   float64\n",
            " 36  BsmtFin Type 2   2849 non-null   object \n",
            " 37  BsmtFin SF 2     2929 non-null   float64\n",
            " 38  Bsmt Unf SF      2929 non-null   float64\n",
            " 39  Total Bsmt SF    2929 non-null   float64\n",
            " 40  Heating          2930 non-null   object \n",
            " 41  Heating QC       2930 non-null   object \n",
            " 42  Central Air      2930 non-null   object \n",
            " 43  Electrical       2929 non-null   object \n",
            " 44  1st Flr SF       2930 non-null   int64  \n",
            " 45  2nd Flr SF       2930 non-null   int64  \n",
            " 46  Low Qual Fin SF  2930 non-null   int64  \n",
            " 47  Gr Liv Area      2930 non-null   int64  \n",
            " 48  Bsmt Full Bath   2928 non-null   float64\n",
            " 49  Bsmt Half Bath   2928 non-null   float64\n",
            " 50  Full Bath        2930 non-null   int64  \n",
            " 51  Half Bath        2930 non-null   int64  \n",
            " 52  Bedroom AbvGr    2930 non-null   int64  \n",
            " 53  Kitchen AbvGr    2930 non-null   int64  \n",
            " 54  Kitchen Qual     2930 non-null   object \n",
            " 55  TotRms AbvGrd    2930 non-null   int64  \n",
            " 56  Functional       2930 non-null   object \n",
            " 57  Fireplaces       2930 non-null   int64  \n",
            " 58  Fireplace Qu     1508 non-null   object \n",
            " 59  Garage Type      2773 non-null   object \n",
            " 60  Garage Yr Blt    2771 non-null   float64\n",
            " 61  Garage Finish    2771 non-null   object \n",
            " 62  Garage Cars      2929 non-null   float64\n",
            " 63  Garage Area      2929 non-null   float64\n",
            " 64  Garage Qual      2771 non-null   object \n",
            " 65  Garage Cond      2771 non-null   object \n",
            " 66  Paved Drive      2930 non-null   object \n",
            " 67  Wood Deck SF     2930 non-null   int64  \n",
            " 68  Open Porch SF    2930 non-null   int64  \n",
            " 69  Enclosed Porch   2930 non-null   int64  \n",
            " 70  3Ssn Porch       2930 non-null   int64  \n",
            " 71  Screen Porch     2930 non-null   int64  \n",
            " 72  Pool Area        2930 non-null   int64  \n",
            " 73  Pool QC          13 non-null     object \n",
            " 74  Fence            572 non-null    object \n",
            " 75  Misc Feature     106 non-null    object \n",
            " 76  Misc Val         2930 non-null   int64  \n",
            " 77  Mo Sold          2930 non-null   int64  \n",
            " 78  Yr Sold          2930 non-null   int64  \n",
            " 79  Sale Type        2930 non-null   object \n",
            " 80  Sale Condition   2930 non-null   object \n",
            " 81  SalePrice        2930 non-null   int64  \n",
            "dtypes: float64(11), int64(28), object(43)\n",
            "memory usage: 1.8+ MB\n",
            "None\n"
          ]
        }
      ],
      "source": [
        "# General information on the dataset\n",
        "print(ames_data.info())"
      ]
    },
    {
      "cell_type": "markdown",
      "id": "x8-bPMfNBIm1",
      "metadata": {
        "id": "x8-bPMfNBIm1"
      },
      "source": [
        "To get a better overview of the type of variables available, variables can be subdivided in different lists."
      ]
    },
    {
      "cell_type": "code",
      "execution_count": 7,
      "id": "2fa48092",
      "metadata": {
        "colab": {
          "base_uri": "https://localhost:8080/"
        },
        "id": "2fa48092",
        "outputId": "03042436-d231-41eb-a331-1d7e38fdeaed",
        "tags": []
      },
      "outputs": [
        {
          "output_type": "stream",
          "name": "stdout",
          "text": [
            "Nominal variables:\n",
            "------------------\n",
            "['MS Zoning', 'Street', 'Alley', 'Lot Shape', 'Land Contour', 'Utilities', 'Lot Config', 'Land Slope', 'Neighborhood', 'Condition 1', 'Condition 2', 'Bldg Type', 'House Style', 'Roof Style', 'Roof Matl', 'Exterior 1st', 'Exterior 2nd', 'Mas Vnr Type', 'Exter Qual', 'Exter Cond', 'Foundation', 'Bsmt Qual', 'Bsmt Cond', 'Bsmt Exposure', 'BsmtFin Type 1', 'BsmtFin Type 2', 'Heating', 'Heating QC', 'Central Air', 'Electrical', 'Kitchen Qual', 'Functional', 'Fireplace Qu', 'Garage Type', 'Garage Finish', 'Garage Qual', 'Garage Cond', 'Paved Drive', 'Pool QC', 'Fence', 'Misc Feature', 'Sale Type', 'Sale Condition']\n",
            "\n",
            "Discrete variables:\n",
            "-------------------\n",
            "['Order', 'PID', 'MS SubClass', 'Lot Area', 'Overall Qual', 'Overall Cond', 'Year Built', 'Year Remod/Add', '1st Flr SF', '2nd Flr SF', 'Low Qual Fin SF', 'Gr Liv Area', 'Full Bath', 'Half Bath', 'Bedroom AbvGr', 'Kitchen AbvGr', 'TotRms AbvGrd', 'Fireplaces', 'Wood Deck SF', 'Open Porch SF', 'Enclosed Porch', '3Ssn Porch', 'Screen Porch', 'Pool Area', 'Misc Val', 'Mo Sold', 'Yr Sold', 'SalePrice']\n",
            "\n",
            "Continuous variables:\n",
            "---------------------\n",
            "['Lot Frontage', 'Mas Vnr Area', 'BsmtFin SF 1', 'BsmtFin SF 2', 'Bsmt Unf SF', 'Total Bsmt SF', 'Bsmt Full Bath', 'Bsmt Half Bath', 'Garage Yr Blt', 'Garage Cars', 'Garage Area']\n"
          ]
        }
      ],
      "source": [
        "nominal=[]\n",
        "discrete = []\n",
        "continuous = []\n",
        "for i in list(ames_data):\n",
        "  if ames_data[i].dtype == 'object':\n",
        "    nominal.append(i)\n",
        "  elif ames_data[i].dtype == 'float64':\n",
        "    continuous.append(i)\n",
        "  else:\n",
        "      discrete.append(i)\n",
        "print(\"Nominal variables:\")\n",
        "print(\"------------------\")\n",
        "print(nominal)\n",
        "print(\"\\nDiscrete variables:\")\n",
        "print(\"-------------------\")\n",
        "print(discrete)\n",
        "print(\"\\nContinuous variables:\")\n",
        "print(\"---------------------\")\n",
        "print(continuous)"
      ]
    },
    {
      "cell_type": "markdown",
      "id": "She4UHdcvvNT",
      "metadata": {
        "id": "She4UHdcvvNT"
      },
      "source": [
        "A summary with statistics of the variables of the dataset can be found using function ```describe()```. By default, only statistics from numerical data are displayed. It is possible to remedy this situation by using option ```include``` to specify which data types should be shown."
      ]
    },
    {
      "cell_type": "code",
      "execution_count": 8,
      "id": "Cz_VXLWC2Dvu",
      "metadata": {
        "id": "Cz_VXLWC2Dvu",
        "scrolled": true,
        "tags": [],
        "colab": {
          "base_uri": "https://localhost:8080/",
          "height": 363
        },
        "outputId": "caf5ff70-d9a7-4f1f-d748-7048c1f4fdc4"
      },
      "outputs": [
        {
          "output_type": "execute_result",
          "data": {
            "text/plain": [
              "            Order           PID  MS SubClass  Lot Frontage       Lot Area  \\\n",
              "count  2930.00000  2.930000e+03  2930.000000   2440.000000    2930.000000   \n",
              "mean   1465.50000  7.144645e+08    57.387372     69.224590   10147.921843   \n",
              "std     845.96247  1.887308e+08    42.638025     23.365335    7880.017759   \n",
              "min       1.00000  5.263011e+08    20.000000     21.000000    1300.000000   \n",
              "25%     733.25000  5.284770e+08    20.000000     58.000000    7440.250000   \n",
              "50%    1465.50000  5.354536e+08    50.000000     68.000000    9436.500000   \n",
              "75%    2197.75000  9.071811e+08    70.000000     80.000000   11555.250000   \n",
              "max    2930.00000  1.007100e+09   190.000000    313.000000  215245.000000   \n",
              "\n",
              "       Overall Qual  Overall Cond   Year Built  Year Remod/Add  Mas Vnr Area  \\\n",
              "count   2930.000000   2930.000000  2930.000000     2930.000000   2907.000000   \n",
              "mean       6.094881      5.563140  1971.356314     1984.266553    101.896801   \n",
              "std        1.411026      1.111537    30.245361       20.860286    179.112611   \n",
              "min        1.000000      1.000000  1872.000000     1950.000000      0.000000   \n",
              "25%        5.000000      5.000000  1954.000000     1965.000000      0.000000   \n",
              "50%        6.000000      5.000000  1973.000000     1993.000000      0.000000   \n",
              "75%        7.000000      6.000000  2001.000000     2004.000000    164.000000   \n",
              "max       10.000000      9.000000  2010.000000     2010.000000   1600.000000   \n",
              "\n",
              "       ...  Wood Deck SF  Open Porch SF  Enclosed Porch   3Ssn Porch  \\\n",
              "count  ...   2930.000000    2930.000000     2930.000000  2930.000000   \n",
              "mean   ...     93.751877      47.533447       23.011604     2.592491   \n",
              "std    ...    126.361562      67.483400       64.139059    25.141331   \n",
              "min    ...      0.000000       0.000000        0.000000     0.000000   \n",
              "25%    ...      0.000000       0.000000        0.000000     0.000000   \n",
              "50%    ...      0.000000      27.000000        0.000000     0.000000   \n",
              "75%    ...    168.000000      70.000000        0.000000     0.000000   \n",
              "max    ...   1424.000000     742.000000     1012.000000   508.000000   \n",
              "\n",
              "       Screen Porch    Pool Area      Misc Val      Mo Sold      Yr Sold  \\\n",
              "count   2930.000000  2930.000000   2930.000000  2930.000000  2930.000000   \n",
              "mean      16.002048     2.243345     50.635154     6.216041  2007.790444   \n",
              "std       56.087370    35.597181    566.344288     2.714492     1.316613   \n",
              "min        0.000000     0.000000      0.000000     1.000000  2006.000000   \n",
              "25%        0.000000     0.000000      0.000000     4.000000  2007.000000   \n",
              "50%        0.000000     0.000000      0.000000     6.000000  2008.000000   \n",
              "75%        0.000000     0.000000      0.000000     8.000000  2009.000000   \n",
              "max      576.000000   800.000000  17000.000000    12.000000  2010.000000   \n",
              "\n",
              "           SalePrice  \n",
              "count    2930.000000  \n",
              "mean   180796.060068  \n",
              "std     79886.692357  \n",
              "min     12789.000000  \n",
              "25%    129500.000000  \n",
              "50%    160000.000000  \n",
              "75%    213500.000000  \n",
              "max    755000.000000  \n",
              "\n",
              "[8 rows x 39 columns]"
            ],
            "text/html": [
              "\n",
              "  <div id=\"df-06d22df6-2a0b-4a43-9290-a3edad026696\" class=\"colab-df-container\">\n",
              "    <div>\n",
              "<style scoped>\n",
              "    .dataframe tbody tr th:only-of-type {\n",
              "        vertical-align: middle;\n",
              "    }\n",
              "\n",
              "    .dataframe tbody tr th {\n",
              "        vertical-align: top;\n",
              "    }\n",
              "\n",
              "    .dataframe thead th {\n",
              "        text-align: right;\n",
              "    }\n",
              "</style>\n",
              "<table border=\"1\" class=\"dataframe\">\n",
              "  <thead>\n",
              "    <tr style=\"text-align: right;\">\n",
              "      <th></th>\n",
              "      <th>Order</th>\n",
              "      <th>PID</th>\n",
              "      <th>MS SubClass</th>\n",
              "      <th>Lot Frontage</th>\n",
              "      <th>Lot Area</th>\n",
              "      <th>Overall Qual</th>\n",
              "      <th>Overall Cond</th>\n",
              "      <th>Year Built</th>\n",
              "      <th>Year Remod/Add</th>\n",
              "      <th>Mas Vnr Area</th>\n",
              "      <th>...</th>\n",
              "      <th>Wood Deck SF</th>\n",
              "      <th>Open Porch SF</th>\n",
              "      <th>Enclosed Porch</th>\n",
              "      <th>3Ssn Porch</th>\n",
              "      <th>Screen Porch</th>\n",
              "      <th>Pool Area</th>\n",
              "      <th>Misc Val</th>\n",
              "      <th>Mo Sold</th>\n",
              "      <th>Yr Sold</th>\n",
              "      <th>SalePrice</th>\n",
              "    </tr>\n",
              "  </thead>\n",
              "  <tbody>\n",
              "    <tr>\n",
              "      <th>count</th>\n",
              "      <td>2930.00000</td>\n",
              "      <td>2.930000e+03</td>\n",
              "      <td>2930.000000</td>\n",
              "      <td>2440.000000</td>\n",
              "      <td>2930.000000</td>\n",
              "      <td>2930.000000</td>\n",
              "      <td>2930.000000</td>\n",
              "      <td>2930.000000</td>\n",
              "      <td>2930.000000</td>\n",
              "      <td>2907.000000</td>\n",
              "      <td>...</td>\n",
              "      <td>2930.000000</td>\n",
              "      <td>2930.000000</td>\n",
              "      <td>2930.000000</td>\n",
              "      <td>2930.000000</td>\n",
              "      <td>2930.000000</td>\n",
              "      <td>2930.000000</td>\n",
              "      <td>2930.000000</td>\n",
              "      <td>2930.000000</td>\n",
              "      <td>2930.000000</td>\n",
              "      <td>2930.000000</td>\n",
              "    </tr>\n",
              "    <tr>\n",
              "      <th>mean</th>\n",
              "      <td>1465.50000</td>\n",
              "      <td>7.144645e+08</td>\n",
              "      <td>57.387372</td>\n",
              "      <td>69.224590</td>\n",
              "      <td>10147.921843</td>\n",
              "      <td>6.094881</td>\n",
              "      <td>5.563140</td>\n",
              "      <td>1971.356314</td>\n",
              "      <td>1984.266553</td>\n",
              "      <td>101.896801</td>\n",
              "      <td>...</td>\n",
              "      <td>93.751877</td>\n",
              "      <td>47.533447</td>\n",
              "      <td>23.011604</td>\n",
              "      <td>2.592491</td>\n",
              "      <td>16.002048</td>\n",
              "      <td>2.243345</td>\n",
              "      <td>50.635154</td>\n",
              "      <td>6.216041</td>\n",
              "      <td>2007.790444</td>\n",
              "      <td>180796.060068</td>\n",
              "    </tr>\n",
              "    <tr>\n",
              "      <th>std</th>\n",
              "      <td>845.96247</td>\n",
              "      <td>1.887308e+08</td>\n",
              "      <td>42.638025</td>\n",
              "      <td>23.365335</td>\n",
              "      <td>7880.017759</td>\n",
              "      <td>1.411026</td>\n",
              "      <td>1.111537</td>\n",
              "      <td>30.245361</td>\n",
              "      <td>20.860286</td>\n",
              "      <td>179.112611</td>\n",
              "      <td>...</td>\n",
              "      <td>126.361562</td>\n",
              "      <td>67.483400</td>\n",
              "      <td>64.139059</td>\n",
              "      <td>25.141331</td>\n",
              "      <td>56.087370</td>\n",
              "      <td>35.597181</td>\n",
              "      <td>566.344288</td>\n",
              "      <td>2.714492</td>\n",
              "      <td>1.316613</td>\n",
              "      <td>79886.692357</td>\n",
              "    </tr>\n",
              "    <tr>\n",
              "      <th>min</th>\n",
              "      <td>1.00000</td>\n",
              "      <td>5.263011e+08</td>\n",
              "      <td>20.000000</td>\n",
              "      <td>21.000000</td>\n",
              "      <td>1300.000000</td>\n",
              "      <td>1.000000</td>\n",
              "      <td>1.000000</td>\n",
              "      <td>1872.000000</td>\n",
              "      <td>1950.000000</td>\n",
              "      <td>0.000000</td>\n",
              "      <td>...</td>\n",
              "      <td>0.000000</td>\n",
              "      <td>0.000000</td>\n",
              "      <td>0.000000</td>\n",
              "      <td>0.000000</td>\n",
              "      <td>0.000000</td>\n",
              "      <td>0.000000</td>\n",
              "      <td>0.000000</td>\n",
              "      <td>1.000000</td>\n",
              "      <td>2006.000000</td>\n",
              "      <td>12789.000000</td>\n",
              "    </tr>\n",
              "    <tr>\n",
              "      <th>25%</th>\n",
              "      <td>733.25000</td>\n",
              "      <td>5.284770e+08</td>\n",
              "      <td>20.000000</td>\n",
              "      <td>58.000000</td>\n",
              "      <td>7440.250000</td>\n",
              "      <td>5.000000</td>\n",
              "      <td>5.000000</td>\n",
              "      <td>1954.000000</td>\n",
              "      <td>1965.000000</td>\n",
              "      <td>0.000000</td>\n",
              "      <td>...</td>\n",
              "      <td>0.000000</td>\n",
              "      <td>0.000000</td>\n",
              "      <td>0.000000</td>\n",
              "      <td>0.000000</td>\n",
              "      <td>0.000000</td>\n",
              "      <td>0.000000</td>\n",
              "      <td>0.000000</td>\n",
              "      <td>4.000000</td>\n",
              "      <td>2007.000000</td>\n",
              "      <td>129500.000000</td>\n",
              "    </tr>\n",
              "    <tr>\n",
              "      <th>50%</th>\n",
              "      <td>1465.50000</td>\n",
              "      <td>5.354536e+08</td>\n",
              "      <td>50.000000</td>\n",
              "      <td>68.000000</td>\n",
              "      <td>9436.500000</td>\n",
              "      <td>6.000000</td>\n",
              "      <td>5.000000</td>\n",
              "      <td>1973.000000</td>\n",
              "      <td>1993.000000</td>\n",
              "      <td>0.000000</td>\n",
              "      <td>...</td>\n",
              "      <td>0.000000</td>\n",
              "      <td>27.000000</td>\n",
              "      <td>0.000000</td>\n",
              "      <td>0.000000</td>\n",
              "      <td>0.000000</td>\n",
              "      <td>0.000000</td>\n",
              "      <td>0.000000</td>\n",
              "      <td>6.000000</td>\n",
              "      <td>2008.000000</td>\n",
              "      <td>160000.000000</td>\n",
              "    </tr>\n",
              "    <tr>\n",
              "      <th>75%</th>\n",
              "      <td>2197.75000</td>\n",
              "      <td>9.071811e+08</td>\n",
              "      <td>70.000000</td>\n",
              "      <td>80.000000</td>\n",
              "      <td>11555.250000</td>\n",
              "      <td>7.000000</td>\n",
              "      <td>6.000000</td>\n",
              "      <td>2001.000000</td>\n",
              "      <td>2004.000000</td>\n",
              "      <td>164.000000</td>\n",
              "      <td>...</td>\n",
              "      <td>168.000000</td>\n",
              "      <td>70.000000</td>\n",
              "      <td>0.000000</td>\n",
              "      <td>0.000000</td>\n",
              "      <td>0.000000</td>\n",
              "      <td>0.000000</td>\n",
              "      <td>0.000000</td>\n",
              "      <td>8.000000</td>\n",
              "      <td>2009.000000</td>\n",
              "      <td>213500.000000</td>\n",
              "    </tr>\n",
              "    <tr>\n",
              "      <th>max</th>\n",
              "      <td>2930.00000</td>\n",
              "      <td>1.007100e+09</td>\n",
              "      <td>190.000000</td>\n",
              "      <td>313.000000</td>\n",
              "      <td>215245.000000</td>\n",
              "      <td>10.000000</td>\n",
              "      <td>9.000000</td>\n",
              "      <td>2010.000000</td>\n",
              "      <td>2010.000000</td>\n",
              "      <td>1600.000000</td>\n",
              "      <td>...</td>\n",
              "      <td>1424.000000</td>\n",
              "      <td>742.000000</td>\n",
              "      <td>1012.000000</td>\n",
              "      <td>508.000000</td>\n",
              "      <td>576.000000</td>\n",
              "      <td>800.000000</td>\n",
              "      <td>17000.000000</td>\n",
              "      <td>12.000000</td>\n",
              "      <td>2010.000000</td>\n",
              "      <td>755000.000000</td>\n",
              "    </tr>\n",
              "  </tbody>\n",
              "</table>\n",
              "<p>8 rows × 39 columns</p>\n",
              "</div>\n",
              "    <div class=\"colab-df-buttons\">\n",
              "\n",
              "  <div class=\"colab-df-container\">\n",
              "    <button class=\"colab-df-convert\" onclick=\"convertToInteractive('df-06d22df6-2a0b-4a43-9290-a3edad026696')\"\n",
              "            title=\"Convert this dataframe to an interactive table.\"\n",
              "            style=\"display:none;\">\n",
              "\n",
              "  <svg xmlns=\"http://www.w3.org/2000/svg\" height=\"24px\" viewBox=\"0 -960 960 960\">\n",
              "    <path d=\"M120-120v-720h720v720H120Zm60-500h600v-160H180v160Zm220 220h160v-160H400v160Zm0 220h160v-160H400v160ZM180-400h160v-160H180v160Zm440 0h160v-160H620v160ZM180-180h160v-160H180v160Zm440 0h160v-160H620v160Z\"/>\n",
              "  </svg>\n",
              "    </button>\n",
              "\n",
              "  <style>\n",
              "    .colab-df-container {\n",
              "      display:flex;\n",
              "      gap: 12px;\n",
              "    }\n",
              "\n",
              "    .colab-df-convert {\n",
              "      background-color: #E8F0FE;\n",
              "      border: none;\n",
              "      border-radius: 50%;\n",
              "      cursor: pointer;\n",
              "      display: none;\n",
              "      fill: #1967D2;\n",
              "      height: 32px;\n",
              "      padding: 0 0 0 0;\n",
              "      width: 32px;\n",
              "    }\n",
              "\n",
              "    .colab-df-convert:hover {\n",
              "      background-color: #E2EBFA;\n",
              "      box-shadow: 0px 1px 2px rgba(60, 64, 67, 0.3), 0px 1px 3px 1px rgba(60, 64, 67, 0.15);\n",
              "      fill: #174EA6;\n",
              "    }\n",
              "\n",
              "    .colab-df-buttons div {\n",
              "      margin-bottom: 4px;\n",
              "    }\n",
              "\n",
              "    [theme=dark] .colab-df-convert {\n",
              "      background-color: #3B4455;\n",
              "      fill: #D2E3FC;\n",
              "    }\n",
              "\n",
              "    [theme=dark] .colab-df-convert:hover {\n",
              "      background-color: #434B5C;\n",
              "      box-shadow: 0px 1px 3px 1px rgba(0, 0, 0, 0.15);\n",
              "      filter: drop-shadow(0px 1px 2px rgba(0, 0, 0, 0.3));\n",
              "      fill: #FFFFFF;\n",
              "    }\n",
              "  </style>\n",
              "\n",
              "    <script>\n",
              "      const buttonEl =\n",
              "        document.querySelector('#df-06d22df6-2a0b-4a43-9290-a3edad026696 button.colab-df-convert');\n",
              "      buttonEl.style.display =\n",
              "        google.colab.kernel.accessAllowed ? 'block' : 'none';\n",
              "\n",
              "      async function convertToInteractive(key) {\n",
              "        const element = document.querySelector('#df-06d22df6-2a0b-4a43-9290-a3edad026696');\n",
              "        const dataTable =\n",
              "          await google.colab.kernel.invokeFunction('convertToInteractive',\n",
              "                                                    [key], {});\n",
              "        if (!dataTable) return;\n",
              "\n",
              "        const docLinkHtml = 'Like what you see? Visit the ' +\n",
              "          '<a target=\"_blank\" href=https://colab.research.google.com/notebooks/data_table.ipynb>data table notebook</a>'\n",
              "          + ' to learn more about interactive tables.';\n",
              "        element.innerHTML = '';\n",
              "        dataTable['output_type'] = 'display_data';\n",
              "        await google.colab.output.renderOutput(dataTable, element);\n",
              "        const docLink = document.createElement('div');\n",
              "        docLink.innerHTML = docLinkHtml;\n",
              "        element.appendChild(docLink);\n",
              "      }\n",
              "    </script>\n",
              "  </div>\n",
              "\n",
              "\n",
              "<div id=\"df-cb820d90-c452-401d-8a36-09aa4b08187f\">\n",
              "  <button class=\"colab-df-quickchart\" onclick=\"quickchart('df-cb820d90-c452-401d-8a36-09aa4b08187f')\"\n",
              "            title=\"Suggest charts\"\n",
              "            style=\"display:none;\">\n",
              "\n",
              "<svg xmlns=\"http://www.w3.org/2000/svg\" height=\"24px\"viewBox=\"0 0 24 24\"\n",
              "     width=\"24px\">\n",
              "    <g>\n",
              "        <path d=\"M19 3H5c-1.1 0-2 .9-2 2v14c0 1.1.9 2 2 2h14c1.1 0 2-.9 2-2V5c0-1.1-.9-2-2-2zM9 17H7v-7h2v7zm4 0h-2V7h2v10zm4 0h-2v-4h2v4z\"/>\n",
              "    </g>\n",
              "</svg>\n",
              "  </button>\n",
              "\n",
              "<style>\n",
              "  .colab-df-quickchart {\n",
              "      --bg-color: #E8F0FE;\n",
              "      --fill-color: #1967D2;\n",
              "      --hover-bg-color: #E2EBFA;\n",
              "      --hover-fill-color: #174EA6;\n",
              "      --disabled-fill-color: #AAA;\n",
              "      --disabled-bg-color: #DDD;\n",
              "  }\n",
              "\n",
              "  [theme=dark] .colab-df-quickchart {\n",
              "      --bg-color: #3B4455;\n",
              "      --fill-color: #D2E3FC;\n",
              "      --hover-bg-color: #434B5C;\n",
              "      --hover-fill-color: #FFFFFF;\n",
              "      --disabled-bg-color: #3B4455;\n",
              "      --disabled-fill-color: #666;\n",
              "  }\n",
              "\n",
              "  .colab-df-quickchart {\n",
              "    background-color: var(--bg-color);\n",
              "    border: none;\n",
              "    border-radius: 50%;\n",
              "    cursor: pointer;\n",
              "    display: none;\n",
              "    fill: var(--fill-color);\n",
              "    height: 32px;\n",
              "    padding: 0;\n",
              "    width: 32px;\n",
              "  }\n",
              "\n",
              "  .colab-df-quickchart:hover {\n",
              "    background-color: var(--hover-bg-color);\n",
              "    box-shadow: 0 1px 2px rgba(60, 64, 67, 0.3), 0 1px 3px 1px rgba(60, 64, 67, 0.15);\n",
              "    fill: var(--button-hover-fill-color);\n",
              "  }\n",
              "\n",
              "  .colab-df-quickchart-complete:disabled,\n",
              "  .colab-df-quickchart-complete:disabled:hover {\n",
              "    background-color: var(--disabled-bg-color);\n",
              "    fill: var(--disabled-fill-color);\n",
              "    box-shadow: none;\n",
              "  }\n",
              "\n",
              "  .colab-df-spinner {\n",
              "    border: 2px solid var(--fill-color);\n",
              "    border-color: transparent;\n",
              "    border-bottom-color: var(--fill-color);\n",
              "    animation:\n",
              "      spin 1s steps(1) infinite;\n",
              "  }\n",
              "\n",
              "  @keyframes spin {\n",
              "    0% {\n",
              "      border-color: transparent;\n",
              "      border-bottom-color: var(--fill-color);\n",
              "      border-left-color: var(--fill-color);\n",
              "    }\n",
              "    20% {\n",
              "      border-color: transparent;\n",
              "      border-left-color: var(--fill-color);\n",
              "      border-top-color: var(--fill-color);\n",
              "    }\n",
              "    30% {\n",
              "      border-color: transparent;\n",
              "      border-left-color: var(--fill-color);\n",
              "      border-top-color: var(--fill-color);\n",
              "      border-right-color: var(--fill-color);\n",
              "    }\n",
              "    40% {\n",
              "      border-color: transparent;\n",
              "      border-right-color: var(--fill-color);\n",
              "      border-top-color: var(--fill-color);\n",
              "    }\n",
              "    60% {\n",
              "      border-color: transparent;\n",
              "      border-right-color: var(--fill-color);\n",
              "    }\n",
              "    80% {\n",
              "      border-color: transparent;\n",
              "      border-right-color: var(--fill-color);\n",
              "      border-bottom-color: var(--fill-color);\n",
              "    }\n",
              "    90% {\n",
              "      border-color: transparent;\n",
              "      border-bottom-color: var(--fill-color);\n",
              "    }\n",
              "  }\n",
              "</style>\n",
              "\n",
              "  <script>\n",
              "    async function quickchart(key) {\n",
              "      const quickchartButtonEl =\n",
              "        document.querySelector('#' + key + ' button');\n",
              "      quickchartButtonEl.disabled = true;  // To prevent multiple clicks.\n",
              "      quickchartButtonEl.classList.add('colab-df-spinner');\n",
              "      try {\n",
              "        const charts = await google.colab.kernel.invokeFunction(\n",
              "            'suggestCharts', [key], {});\n",
              "      } catch (error) {\n",
              "        console.error('Error during call to suggestCharts:', error);\n",
              "      }\n",
              "      quickchartButtonEl.classList.remove('colab-df-spinner');\n",
              "      quickchartButtonEl.classList.add('colab-df-quickchart-complete');\n",
              "    }\n",
              "    (() => {\n",
              "      let quickchartButtonEl =\n",
              "        document.querySelector('#df-cb820d90-c452-401d-8a36-09aa4b08187f button');\n",
              "      quickchartButtonEl.style.display =\n",
              "        google.colab.kernel.accessAllowed ? 'block' : 'none';\n",
              "    })();\n",
              "  </script>\n",
              "</div>\n",
              "\n",
              "    </div>\n",
              "  </div>\n"
            ],
            "application/vnd.google.colaboratory.intrinsic+json": {
              "type": "dataframe"
            }
          },
          "metadata": {},
          "execution_count": 8
        }
      ],
      "source": [
        "ames_data.describe()\n",
        "# Variant to get metrics for non-floating variables too\n",
        "# ames_data.describe(include=['object', 'float', 'int'])"
      ]
    },
    {
      "cell_type": "markdown",
      "id": "RrdyfFhzfyLp",
      "metadata": {
        "id": "RrdyfFhzfyLp"
      },
      "source": [
        "Alternatively, statistics for only a single variable can be selected:"
      ]
    },
    {
      "cell_type": "code",
      "execution_count": 9,
      "id": "ixaUVf8Yf1Kp",
      "metadata": {
        "id": "ixaUVf8Yf1Kp",
        "tags": [],
        "colab": {
          "base_uri": "https://localhost:8080/",
          "height": 331
        },
        "outputId": "b5f84a01-6dfa-4b17-b6ce-cc2bdc032392"
      },
      "outputs": [
        {
          "output_type": "execute_result",
          "data": {
            "text/plain": [
              "count      2930.000000\n",
              "mean     180796.060068\n",
              "std       79886.692357\n",
              "min       12789.000000\n",
              "25%      129500.000000\n",
              "50%      160000.000000\n",
              "75%      213500.000000\n",
              "max      755000.000000\n",
              "Name: SalePrice, dtype: float64"
            ],
            "text/html": [
              "<div>\n",
              "<style scoped>\n",
              "    .dataframe tbody tr th:only-of-type {\n",
              "        vertical-align: middle;\n",
              "    }\n",
              "\n",
              "    .dataframe tbody tr th {\n",
              "        vertical-align: top;\n",
              "    }\n",
              "\n",
              "    .dataframe thead th {\n",
              "        text-align: right;\n",
              "    }\n",
              "</style>\n",
              "<table border=\"1\" class=\"dataframe\">\n",
              "  <thead>\n",
              "    <tr style=\"text-align: right;\">\n",
              "      <th></th>\n",
              "      <th>SalePrice</th>\n",
              "    </tr>\n",
              "  </thead>\n",
              "  <tbody>\n",
              "    <tr>\n",
              "      <th>count</th>\n",
              "      <td>2930.000000</td>\n",
              "    </tr>\n",
              "    <tr>\n",
              "      <th>mean</th>\n",
              "      <td>180796.060068</td>\n",
              "    </tr>\n",
              "    <tr>\n",
              "      <th>std</th>\n",
              "      <td>79886.692357</td>\n",
              "    </tr>\n",
              "    <tr>\n",
              "      <th>min</th>\n",
              "      <td>12789.000000</td>\n",
              "    </tr>\n",
              "    <tr>\n",
              "      <th>25%</th>\n",
              "      <td>129500.000000</td>\n",
              "    </tr>\n",
              "    <tr>\n",
              "      <th>50%</th>\n",
              "      <td>160000.000000</td>\n",
              "    </tr>\n",
              "    <tr>\n",
              "      <th>75%</th>\n",
              "      <td>213500.000000</td>\n",
              "    </tr>\n",
              "    <tr>\n",
              "      <th>max</th>\n",
              "      <td>755000.000000</td>\n",
              "    </tr>\n",
              "  </tbody>\n",
              "</table>\n",
              "</div><br><label><b>dtype:</b> float64</label>"
            ]
          },
          "metadata": {},
          "execution_count": 9
        }
      ],
      "source": [
        "ames_data[\"SalePrice\"].describe()"
      ]
    },
    {
      "cell_type": "markdown",
      "id": "ULy5p0x2FZpX",
      "metadata": {
        "id": "ULy5p0x2FZpX"
      },
      "source": [
        "To better investigate the variables of the dataset, graphs can quickly be used.\n",
        "<br/>An histogram and a pie chart for two of the explanatory variables of the dataset are presented below. They have been respectively created using functions ```hist()``` and ```plot()``` from package ```pandas```. In the snippet of code below, package ```matplotlib``` is used to document the graph with a title and axis names."
      ]
    },
    {
      "cell_type": "code",
      "execution_count": 10,
      "id": "717efea3-fea9-4a20-af24-b2cfd21bb017",
      "metadata": {
        "tags": [],
        "id": "717efea3-fea9-4a20-af24-b2cfd21bb017"
      },
      "outputs": [],
      "source": [
        "import plotly\n",
        "pd.options.plotting.backend = \"matplotlib\""
      ]
    },
    {
      "cell_type": "code",
      "execution_count": 11,
      "id": "049cbefa",
      "metadata": {
        "colab": {
          "base_uri": "https://localhost:8080/",
          "height": 472
        },
        "id": "049cbefa",
        "outputId": "b387003f-7a72-4861-90d1-34cb91f62df0",
        "tags": []
      },
      "outputs": [
        {
          "output_type": "display_data",
          "data": {
            "text/plain": [
              "<Figure size 640x480 with 1 Axes>"
            ],
            "image/png": "[encoded data removed]"
          },
          "metadata": {}
        }
      ],
      "source": [
        "# Histogram Year Built\n",
        "Mo_Sold = ames_data[\"Year Built\"].hist()\n",
        "\n",
        "# # # Adding title and labels\n",
        "plt.title('Histogram for Year Built')\n",
        "plt.xlabel('Year Built')\n",
        "plt.ylabel('Count')\n",
        "\n",
        "# Display the histogram\n",
        "plt.show()"
      ]
    },
    {
      "cell_type": "code",
      "execution_count": null,
      "id": "0DN5KSyiIR3P",
      "metadata": {
        "id": "0DN5KSyiIR3P",
        "tags": []
      },
      "outputs": [],
      "source": [
        "# Plotting the graph\n",
        "Garage_type_Pie = ames_data.groupby([\"Garage Type\"]).sum().plot(kind='pie', y='SalePrice',figsize=(8,8), autopct='%1.0f%%')\n",
        "\n",
        "# Adding title\n",
        "plt.title('Pie chart: Garage Type')\n",
        "\n",
        "# Displaying the graph\n",
        "plt.show()"
      ]
    },
    {
      "cell_type": "markdown",
      "id": "IMBTUuUxu0Ab",
      "metadata": {
        "id": "IMBTUuUxu0Ab"
      },
      "source": [
        "A histogram for the dependent variable SalePrice is displayed. Python function ```histplot``` from package ```seaborn``` is used.\n",
        "<br/>If option ```kde=True``` is selected, a line is plotted, showing a smooth distribution.\n",
        "<br/>It is possible to see that most houses have a price between 100K€ and 250K€."
      ]
    },
    {
      "cell_type": "code",
      "execution_count": null,
      "id": "Tm6acouSmlVm",
      "metadata": {
        "id": "Tm6acouSmlVm",
        "tags": []
      },
      "outputs": [],
      "source": [
        "plt.figure(figsize=(8,6))\n",
        "#sns.histplot(ames_data[\"SalePrice\"]).set_title(\"Histogram for SalePrice\")\n",
        "sns.histplot(ames_data[\"SalePrice\"], kde=True).set_title(\"Histogram for SalePrice\")\n",
        "plt.show()"
      ]
    },
    {
      "cell_type": "markdown",
      "id": "-GuifyQ3EbIB",
      "metadata": {
        "id": "-GuifyQ3EbIB"
      },
      "source": [
        "Using the same package, a graph with the density of the dependent variable SalePrice can be quickly created. The python function ```kdeplot``` is used."
      ]
    },
    {
      "cell_type": "code",
      "execution_count": null,
      "id": "2c5b5877",
      "metadata": {
        "id": "2c5b5877",
        "tags": []
      },
      "outputs": [],
      "source": [
        "sns.kdeplot(ames_data[\"SalePrice\"]).set_title(\"Density of variable SalePrice\")\n",
        "plt.show()"
      ]
    },
    {
      "cell_type": "markdown",
      "id": "RZtvi8PVwFkO",
      "metadata": {
        "id": "RZtvi8PVwFkO"
      },
      "source": [
        "Relations between different variables can be investigated. For instance, the mean value of the dependent variable SalePrice per Year Built is considered.\n",
        "<br/>First, for each value of Year Built, the mean of the dependent variable is found and the relation between the two is shown in a graph:"
      ]
    },
    {
      "cell_type": "code",
      "execution_count": null,
      "id": "wiZ5o4B3o37_",
      "metadata": {
        "id": "wiZ5o4B3o37_",
        "tags": []
      },
      "outputs": [],
      "source": [
        "# Plotting the average Sale price per Year Built\n",
        "plt.plot(np.linspace(min(ames_data[\"Year Built\"]), max(ames_data[\"Year Built\"]), len(set(ames_data[\"Year Built\"]))), ames_data.SalePrice.groupby(ames_data[\"Year Built\"]).mean())\n",
        "# Adding title and labels\n",
        "plt.title('SalePrice vs Year Built')\n",
        "plt.xlabel('Year Built')\n",
        "plt.ylabel('Sale Price')\n",
        "\n",
        "plt.show()"
      ]
    },
    {
      "cell_type": "markdown",
      "id": "S_uhOqrkfqH2",
      "metadata": {
        "id": "S_uhOqrkfqH2"
      },
      "source": [
        "From the previous graph, it is possible to notice that there is a high volatility for years prior to 1900. Otherwise, the graph shows a clear relation between the Year Built and average SalePrice. SalePrice seems to be rising as the Year Built increases.\n",
        "The relation between those two variables can be further investigated, using for example a linear regression model.\n",
        "<br/>Below, a linear model is first presented, followed a polynomial regression of degree 2. Notice that to facilitate the creation of the graph, ames_data is sorted based on variable Year Built."
      ]
    },
    {
      "cell_type": "code",
      "execution_count": null,
      "id": "5a609b21",
      "metadata": {
        "id": "5a609b21",
        "tags": []
      },
      "outputs": [],
      "source": [
        "# Variable selection\n",
        "ames_data = ames_data.sort_values(\"Year Built\").reset_index().drop(columns=['index'])\n",
        "X = ames_data[\"Year Built\"].unique().reshape(-1,1)\n",
        "y = ames_data.SalePrice.groupby(ames_data[\"Year Built\"]).mean().values\n",
        "\n",
        "# Linear Regression function from sklearn\n",
        "linear_reg = LinearRegression()\n",
        "linear_reg.fit(X, y)\n",
        "\n",
        "# Predict results\n",
        "y_hat_linear_reg = linear_reg.predict(X)\n",
        "\n",
        "# Linear regression graph\n",
        "plt.scatter(X, y, color = 'orange')\n",
        "plt.plot(X, y_hat_linear_reg, color = 'blue')\n",
        "plt.title('Linear Regression: Average Sale Price per Year built')\n",
        "plt.xlabel('Year built')\n",
        "plt.ylabel('Sale Price')\n",
        "plt.legend(['y', 'y_hat'], title = 'Sale Price vs Year built', loc='best', facecolor='white')\n",
        "plt.box(False)\n",
        "plt.show()"
      ]
    },
    {
      "cell_type": "code",
      "execution_count": null,
      "id": "204d43fc",
      "metadata": {
        "id": "204d43fc",
        "tags": []
      },
      "outputs": [],
      "source": [
        "# Second degree polynom\n",
        "Polynom = PolynomialFeatures(degree = 2)\n",
        "X_pol = Polynom.fit_transform(X)\n",
        "pol_2 = LinearRegression()\n",
        "pol_2.fit(X_pol, y)\n",
        "\n",
        "# Predict results\n",
        "y_hat_pol_2 = pol_2.predict(X_pol)\n",
        "\n",
        "# Polynomial regression graph\n",
        "plt.scatter(X, y, color = 'orange')\n",
        "plt.plot(X, y_hat_pol_2, color = 'blue')\n",
        "plt.title('Polynomial Regression: Average Sale Price per Year built')\n",
        "plt.xlabel('Year built')\n",
        "plt.ylabel('Sale Price')\n",
        "plt.legend(['y', 'y_hat'], title = 'Sale Price vs Year built', loc='best', facecolor='white')\n",
        "plt.box(False)\n",
        "plt.show()"
      ]
    },
    {
      "cell_type": "markdown",
      "id": "0cHKvFqPh2yd",
      "metadata": {
        "id": "0cHKvFqPh2yd"
      },
      "source": [
        "One can visually notice that there are observations that lie quite far from the overall trend."
      ]
    },
    {
      "cell_type": "markdown",
      "id": "e8b2c3e5",
      "metadata": {
        "id": "e8b2c3e5"
      },
      "source": [
        "# 5.1 Outliers <a name=\"Outliers\"></a>\n",
        "\n",
        "As seen above, volatility seems important for older houses. Let's take a look at the scatter plot and the number of observations per year. First, let's use ```scatter()``` from ```matplotlib```."
      ]
    },
    {
      "cell_type": "code",
      "execution_count": null,
      "id": "9acf1a5b",
      "metadata": {
        "id": "9acf1a5b",
        "tags": []
      },
      "outputs": [],
      "source": [
        "plt.scatter(ames_data[\"Year Built\"], ames_data[\"SalePrice\"])\n",
        "plt.title('Scatterplot for Year Built vs SalePrice')\n",
        "plt.show()\n",
        "# pd.options.plotting.backend = \"plotly\""
      ]
    },
    {
      "cell_type": "code",
      "execution_count": null,
      "id": "vMBi848hVRUN",
      "metadata": {
        "id": "vMBi848hVRUN",
        "tags": []
      },
      "outputs": [],
      "source": [
        "sns.histplot(ames_data[\"Year Built\"], kde=True)\n",
        "plt.title('Histogram of the number of observations per Year Built')\n",
        "plt.show()"
      ]
    },
    {
      "cell_type": "markdown",
      "id": "f3e0b55c",
      "metadata": {
        "id": "f3e0b55c"
      },
      "source": [
        "Below, the number of observations per each different Year Built is found. The function ```option_context``` from the library ```pandas``` is used in order to display all the values of Year Build and not just the first and last few ones. This can be very useful."
      ]
    },
    {
      "cell_type": "code",
      "execution_count": null,
      "id": "hj0oYCNSyeIF",
      "metadata": {
        "id": "hj0oYCNSyeIF",
        "tags": []
      },
      "outputs": [],
      "source": [
        "with pd.option_context('display.max_rows', 200,'display.max_columns',None):\n",
        "    print(ames_data.groupby(ames_data[\"Year Built\"]).size())"
      ]
    },
    {
      "cell_type": "markdown",
      "id": "CHClnMyb5Lgw",
      "metadata": {
        "id": "CHClnMyb5Lgw"
      },
      "source": [
        "The table above confirms that the number of observations for years prior to 1900 is limited. One can also wonder if there might be outliers, as some observations may differ quite a lot from the trend that is highlighted by the regression graphs."
      ]
    },
    {
      "cell_type": "markdown",
      "id": "PU5ZJrjRqn9A",
      "metadata": {
        "id": "PU5ZJrjRqn9A"
      },
      "source": [
        "## 5.1.1 Dealing with outliers\n",
        "Outliers should be addressed, as they may alter the analysis. For example, when estimating a linear regression, if some observations are wrongly included and deviate significantly, the estimation of the intercept and slope can be heavily influenced by these values.\n",
        "<br />\n",
        "There are different ways to tackle this issue:\n",
        "\n",
        "1. Deleting the observations that are identified to be outliers\n",
        "2. Capping them\n",
        "3. Substituting their value with the mean\n",
        "\n",
        "First, outliers need to be identified. There are different ways to do so. For example, using boxplots, interquartile ranges & z-score."
      ]
    },
    {
      "cell_type": "markdown",
      "id": "9aa6ac30",
      "metadata": {
        "id": "9aa6ac30"
      },
      "source": [
        "<ins>**Boxplot**</ins>\n",
        "<br />\n",
        "Below, a boxplot is used as an illustrative example. A boxplot consists of a main body between the 25% and 75% quantiles while the upper and bottom tails represent respectively the maximum and minimum values for a given year. The function ```boxplot``` from the package ```seaborn``` is used.\n",
        "<br/>Since variable Year Built can have many values, it is first subgrouped into categories."
      ]
    },
    {
      "cell_type": "code",
      "execution_count": null,
      "id": "386EHnVYGyWL",
      "metadata": {
        "id": "386EHnVYGyWL",
        "tags": []
      },
      "outputs": [],
      "source": [
        "# Division of Year Built into categories\n",
        "ames_data[\"Year Built Cat\"] = pd.cut(ames_data[\"Year Built\"], bins = [ames_data[\"Year Built\"].min()] + list(range(1900,2020,10)), include_lowest = True)\n",
        "# Boxplot\n",
        "plt.figure(figsize = (14,10))\n",
        "fig = sns.boxplot(x = ames_data[\"Year Built Cat\"], y = ames_data['SalePrice'], data = ames_data)\n",
        "title = plt.title('Boxplots: SalePrice by Year Built')\n",
        "# Rotate x-axis labels\n",
        "plt.xticks(rotation=45, ha='right')"
      ]
    },
    {
      "cell_type": "code",
      "execution_count": null,
      "id": "f30c5af0-a734-4c41-be22-1363864e6e13",
      "metadata": {
        "tags": [],
        "id": "f30c5af0-a734-4c41-be22-1363864e6e13"
      },
      "outputs": [],
      "source": [
        "plt.figure(figsize=(10, 6))\n",
        "plt.boxplot(ames_data['SalePrice'], patch_artist=True, vert=False)\n",
        "\n",
        "# Adding a title and labels\n",
        "plt.title('Boxplot of Sale Prices in Ames Housing Dataset')\n",
        "plt.xlabel('Sale Price')\n",
        "\n",
        "# Show the plot\n",
        "plt.grid(True)\n",
        "plt.show()"
      ]
    },
    {
      "cell_type": "markdown",
      "id": "BO-cO5x683oG",
      "metadata": {
        "id": "BO-cO5x683oG"
      },
      "source": [
        "<ins>**Interquartile range**</ins>\n",
        "<br />\n",
        "Moreover, quartiles can be used to identify outliers. Values that lie outside the interquartile range (below the first quartile or above the third quartile) by an amount higher than the interquartile range itself multiplied by 1.5 are considered as outliers."
      ]
    },
    {
      "cell_type": "code",
      "execution_count": null,
      "id": "bugHSbXa83-s",
      "metadata": {
        "id": "bugHSbXa83-s",
        "tags": []
      },
      "outputs": [],
      "source": [
        "# 1st quartile\n",
        "first_q = np.quantile(ames_data['SalePrice'], 0.25)\n",
        "# 3rd quartile\n",
        "third_q = np.quantile(ames_data['SalePrice'], 0.75)\n",
        "med = np.median(ames_data['SalePrice'])\n",
        "# Inter quartile range\n",
        "inter_q_range = third_q - first_q\n",
        "# Lower and upper bounds\n",
        "upper_bound = third_q + (1.5*inter_q_range)\n",
        "lower_bound = first_q - (1.5*inter_q_range)\n",
        "# Find values above the 3rd quartile and below 1st quartile\n",
        "outliers = ames_data['SalePrice'][(ames_data['SalePrice'] <= lower_bound) | (ames_data['SalePrice'] >= upper_bound)]\n",
        "print(\"List of outliers\")\n",
        "print(\"-----------------\")\n",
        "print(outliers)"
      ]
    },
    {
      "cell_type": "markdown",
      "id": "b7n0hecP7RLr",
      "metadata": {
        "id": "b7n0hecP7RLr"
      },
      "source": [
        "<ins>**Z-score**</ins>\n",
        "<br />\n",
        "Another method to detect outliers is the z-score based on the standard normal distribution. It is defined as $Z = \\frac{X – \\mu}{\\sigma}$ where $\\mu$ is the mean and $\\sigma$, the standard deviation. This value is an indicator showing how far from the mean an observation lies. As common practice, an observation is considered to be an outlier if its z-score is greater than 3 or lower than -3.\n",
        "<br/>\n",
        "Below, the detection of outliers by means of the z-score is performed based on the ```scipy``` package. Additional information is available [here](https://docs.scipy.org/doc/scipy/reference/generated/scipy.stats.zscore.html)."
      ]
    },
    {
      "cell_type": "code",
      "execution_count": null,
      "id": "ndOc9_yCsTTE",
      "metadata": {
        "id": "ndOc9_yCsTTE",
        "tags": []
      },
      "outputs": [],
      "source": [
        "# The Z-score from the dependent variable is computed\n",
        "z_scores = stats.zscore(ames_data[\"SalePrice\"])\n",
        "outliers = np.where(np.abs(z_scores) > 3)\n",
        "# The values of the dependent variable that are associated with the outlier are found below:\n",
        "values_outliers = []\n",
        "mu = ames_data[\"SalePrice\"].mean()\n",
        "sigma = ames_data[\"SalePrice\"].std()\n",
        "for i in range(0,len(ames_data)):\n",
        "  z_scoresi = (ames_data[\"SalePrice\"][i] - mu)/sigma\n",
        "  if np.abs(z_scoresi) > 3:\n",
        "    values_outliers.append(ames_data[\"SalePrice\"][i])\n",
        "print(\"List of outlier values:\")\n",
        "print(\"----------------------------------------------------------------------------------------------------------------------\")\n",
        "print(values_outliers)\n",
        "print(\"\\nMinimum value within the outliers: \", min(values_outliers))"
      ]
    },
    {
      "cell_type": "markdown",
      "id": "uA-Rwga7x9-r",
      "metadata": {
        "id": "uA-Rwga7x9-r"
      },
      "source": [
        "After outliers have been identified, those values can be addressed. To handle them, it is necessary to understand their nature. When a value is far away from the mean, this could be due to multiple factors: it could be due to measurements errors, the observation might not be part of the population in scope or the value could just be a correct (abnormal) one.\n",
        "<br /> How it is addressed is then a matter of expert judgment. As mentionned, outliers can be capped, removed or left as they are.\n",
        "<br />For the dataset in use, a new variable is introduced: it is a capped dependent variable. This step is an example of feature-engineering (i.e. tweak current data to create new, more informative values)."
      ]
    },
    {
      "cell_type": "code",
      "execution_count": null,
      "id": "L-CueljTCTF8",
      "metadata": {
        "id": "L-CueljTCTF8",
        "scrolled": true,
        "tags": []
      },
      "outputs": [],
      "source": [
        "# Identify the outlier with the lowest price\n",
        "maxVal = min(values_outliers)\n",
        "# Create a new array with capped price\n",
        "ames_data[\"SalePriceCap\"] = ames_data['SalePrice'].where(ames_data['SalePrice'] <= maxVal, maxVal)\n",
        "ames_data[0:20]"
      ]
    },
    {
      "cell_type": "markdown",
      "id": "FWeB2vKAHkPo",
      "metadata": {
        "id": "FWeB2vKAHkPo"
      },
      "source": [
        "Notice that the new variable is added in column 84. Additionally, one can observe that several variables possess NaN values."
      ]
    },
    {
      "cell_type": "code",
      "execution_count": null,
      "id": "G-lJOKUI96FW",
      "metadata": {
        "id": "G-lJOKUI96FW",
        "scrolled": true,
        "tags": []
      },
      "outputs": [],
      "source": [
        "print(ames_data.info())"
      ]
    },
    {
      "cell_type": "markdown",
      "id": "o1DHFVeNKYxb",
      "metadata": {
        "id": "o1DHFVeNKYxb"
      },
      "source": [
        "Another important step in the data cleaning will be processing NaN values. Some statistics are not computable if NaN values are present in the dataset."
      ]
    },
    {
      "cell_type": "markdown",
      "id": "Op8EU4bcKYTe",
      "metadata": {
        "id": "Op8EU4bcKYTe"
      },
      "source": [
        "# 5.2 NaN values <a name=\"NaN_values\"></a>\n",
        "As already discussed, there are some variables containing NaN value. Below, a summary is available with all the variables that contain NaN values, the number of such values per variable and the relative percentage:\n"
      ]
    },
    {
      "cell_type": "code",
      "execution_count": null,
      "id": "31b682ec",
      "metadata": {
        "id": "31b682ec",
        "tags": []
      },
      "outputs": [],
      "source": [
        "NaN_summary = pd.DataFrame(columns=['Var name', 'Nb of NaN', '% of NaN'])\n",
        "for i in list(ames_data):\n",
        "    if ames_data[i].isna().sum()>0:\n",
        "        if NaN_summary.empty:\n",
        "            NaN_summary = pd.DataFrame(data={'Var name': [i], 'Nb of NaN': [ames_data[i].isna().sum()], '% of NaN': [round((ames_data[i].isna().sum()/len(ames_data.index))*100,2)]})\n",
        "        else:\n",
        "            NaN_summary = pd.concat([NaN_summary,pd.DataFrame({'Var name': [i], 'Nb of NaN': [ames_data[i].isna().sum()], '% of NaN': [round((ames_data[i].isna().sum()/len(ames_data.index))*100,1)]})],axis=0)\n",
        "NaN_summary = NaN_summary.reset_index(drop=True)\n",
        "print(NaN_summary)"
      ]
    },
    {
      "cell_type": "markdown",
      "id": "VeRemj2rOD3V",
      "metadata": {
        "id": "VeRemj2rOD3V"
      },
      "source": [
        "It is preferable to eliminate variables where the number of NaN is too high. One should decide what \"too high\" means. In this example, if more than 40% of values are NaN, then the variables are removed from the dataset."
      ]
    },
    {
      "cell_type": "code",
      "execution_count": null,
      "id": "n-g1goIYQXkd",
      "metadata": {
        "id": "n-g1goIYQXkd",
        "tags": []
      },
      "outputs": [],
      "source": [
        "deleted_var = []\n",
        "percentage = 0.4\n",
        "for i in list(ames_data):\n",
        "  if ames_data[i].isna().sum()/len(ames_data.index)>percentage:\n",
        "   deleted_var.append(i)\n",
        "   ames_data.drop(i, axis = 1, inplace = True)\n",
        "\n",
        "print(\"These variables have been deleted\")\n",
        "print(deleted_var)"
      ]
    },
    {
      "cell_type": "markdown",
      "id": "inEg08DIQy6U",
      "metadata": {
        "id": "inEg08DIQy6U"
      },
      "source": [
        "Some variables have been dropped and a list of such variables has been printed. For the remaining variables, there are still some NaN values.\n",
        "<br/>How to deal with NaN values depends on the data in use. For example, if the name of the street is missing for some observations, a street name in the same area could be used to substitute the NaN. Each case should be adressed keeping in mind the nature of data.\n",
        "<br/>In general, there are different ways to adress NaN values:\n",
        "1. The concerned observation can be removed,\n",
        "2. The NaN value can be substituted with the average of the non-NaN values for that variable (in case of a numeric variable), or with the most recurring value (in case of an object variable). However, this may alter the analysis.\n",
        "3. Another more complex process to address outliers is called *matrix completion*. This is mentioned just for information but it is not further developed in this notebook. See [MIT Matrix Completion](https://ocw.mit.edu/courses/18-409-algorithmic-aspects-of-machine-learning-spring-2015/a2b2f446a289a5a027bf67efaa54b7be_MIT18_409S15_chapp7.pdf) for a more in-depth explanation.\n",
        "\n",
        "Below, the commonly adpoted methodology of substituting the NaN with the mean or mode value is used:"
      ]
    },
    {
      "cell_type": "code",
      "execution_count": null,
      "id": "FO5pWXRrW2_G",
      "metadata": {
        "id": "FO5pWXRrW2_G",
        "tags": []
      },
      "outputs": [],
      "source": [
        "for i in list(ames_data):\n",
        "  if ames_data[i].dtype == 'object':\n",
        "    val = ames_data[i].mode()[0]\n",
        "    ames_data[i] = ames_data[i].fillna(val)\n",
        "  elif pd.api.types.is_numeric_dtype(ames_data[i]):\n",
        "    val=ames_data[i].mean()\n",
        "    ames_data[i] = ames_data[i].fillna(val)"
      ]
    },
    {
      "cell_type": "code",
      "execution_count": null,
      "id": "a9977aaa-e2cf-4a19-8a24-83baa159ea00",
      "metadata": {
        "tags": [],
        "id": "a9977aaa-e2cf-4a19-8a24-83baa159ea00"
      },
      "outputs": [],
      "source": [
        "ames_data.drop(['Year Built Cat','SalePriceCap'],axis=1,inplace=True)"
      ]
    },
    {
      "cell_type": "markdown",
      "id": "hyd_qITzVM5j",
      "metadata": {
        "id": "hyd_qITzVM5j"
      },
      "source": [
        "# 5.3 Variable importance <a name=\"Variable_importance\"></a>"
      ]
    },
    {
      "cell_type": "markdown",
      "id": "c4f8b486-2db8-4de5-a821-a86a8305dc6e",
      "metadata": {
        "id": "c4f8b486-2db8-4de5-a821-a86a8305dc6e"
      },
      "source": [
        "## 5.3.1 Coefficient of variation within variables\n",
        "Another analysis that might be helpful to clean the dataset is the identification of variables that do not add much information.\n",
        "<br />For numerical variables, the coefficient of variation can be used. When this is lower than a certain treshold, the variable is dropped. In the current case, 0.1 has been set as threshold.\n",
        "<br />For object variables, the percentage of observations that take the value of the mode can be used. When this is higher than a certain treshold (0.9 for the example below), the variable is similarly dropped. Function ```Counter``` from package ```collections``` is used to count the number of times the mode value is repeated within a variable."
      ]
    },
    {
      "cell_type": "code",
      "execution_count": null,
      "id": "YX3pAoiRdONI",
      "metadata": {
        "id": "YX3pAoiRdONI",
        "tags": []
      },
      "outputs": [],
      "source": [
        "list_dropped = []\n",
        "ames_data2 = ames_data.copy()\n",
        "for i in list(ames_data):\n",
        "  if pd.api.types.is_numeric_dtype(ames_data[i]):\n",
        "         if (np.std(ames_data[i])/np.mean(ames_data[i]))<0.1 :\n",
        "           list_dropped.append(i)\n",
        "           ames_data2.drop(i, axis = 1, inplace = True)\n",
        "  if ames_data[i].dtype == 'object':\n",
        "    val = ames_data[i].mode()[0]\n",
        "    coun = Counter(ames_data[i])[val]\n",
        "    if coun/len(ames_data.index) > 0.90:\n",
        "        list_dropped.append(i)\n",
        "        ames_data2.drop(i, axis = 1, inplace = True)\n",
        "print(\"List of variables that have been dropped because of low coefficient of variance:\")\n",
        "print(list_dropped)"
      ]
    },
    {
      "cell_type": "markdown",
      "id": "RLXxsQD924qf",
      "metadata": {
        "id": "RLXxsQD924qf"
      },
      "source": [
        "## 5.3.2 Correlation between the explanatory variables and the dependent variable\n",
        "The correlation between the explanatory variables and the dependent variable SalePrice is an indication of the relevance of a certain variables to explain the dependent one.\n",
        "<br />Below, the correlation between the dependent variable and the explanatory numerical variables is shown. The ones with the highest correlation are selected."
      ]
    },
    {
      "cell_type": "code",
      "execution_count": null,
      "id": "BcCG-EQs28LA",
      "metadata": {
        "id": "BcCG-EQs28LA",
        "tags": []
      },
      "outputs": [],
      "source": [
        "correlation_matrix = ames_data.select_dtypes(exclude=['object']).corr()\n",
        "# dependent_variable_corr = correlation_matrix['SalePrice'].sort_values(ascending=False)\n",
        "dependent_variable_corr = correlation_matrix['SalePrice'].reindex(correlation_matrix['SalePrice'].abs().sort_values(ascending=False).index)\n",
        "print(\"Variable and its correlation with SalePrice:\")\n",
        "print(dependent_variable_corr[1:12])\n",
        "print(\"List of 12 explanatory variables with the highest correlation with SalePrice:\")\n",
        "expl_var=dependent_variable_corr[1:12].index.tolist()\n",
        "print(expl_var)"
      ]
    },
    {
      "cell_type": "code",
      "execution_count": null,
      "id": "c2871551-e1de-4db5-a6cb-fc52913419be",
      "metadata": {
        "tags": [],
        "id": "c2871551-e1de-4db5-a6cb-fc52913419be"
      },
      "outputs": [],
      "source": [
        "corr_with_target = ames_data.drop(columns=['SalePrice',]).select_dtypes(exclude=['object']).corrwith(ames_data['SalePrice'])\n",
        "corrplt = sns.heatmap(pd.DataFrame(corr_with_target.sort_values(ascending=False)))\n",
        "# ax1.tick_params(rotation=0)\n",
        "# ax1.set_xticks([])\n",
        "corrplt.set_title('Correlation with SalePrice')"
      ]
    },
    {
      "cell_type": "markdown",
      "id": "3WwSRCmY7EUl",
      "metadata": {
        "id": "3WwSRCmY7EUl"
      },
      "source": [
        "## 5.3.3 Collinearity\n",
        "In case data presents collinearity, a situation where explanatory variables are highly correlated to other explanatory variables, it can lead to difficulties when using regressions. Indeed, intercorrelated variables make it hard to predict individual effect of each variable on the dependent variable.\n",
        "An initial visual tool to detect this situation is the correlation heatmap:"
      ]
    },
    {
      "cell_type": "code",
      "execution_count": null,
      "id": "f9921eb9",
      "metadata": {
        "tags": [],
        "id": "f9921eb9"
      },
      "outputs": [],
      "source": [
        "ames_data.select_dtypes(exclude=['object'])"
      ]
    },
    {
      "cell_type": "code",
      "execution_count": null,
      "id": "ERlIXIyV71Vm",
      "metadata": {
        "id": "ERlIXIyV71Vm",
        "tags": []
      },
      "outputs": [],
      "source": [
        "# Correlation matrix for numerical variables\n",
        "corr = ames_data.select_dtypes(exclude=['object']).corr()\n",
        "\n",
        "# Select correlations greater than a certain treshold\n",
        "coll_corr = corr[abs(corr) >= 0.2]\n",
        "\n",
        "# Plot correlation heatmap\n",
        "plt.figure(figsize=(15, 10))\n",
        "sns.heatmap(coll_corr, annot=True, fmt='.1f', cmap='GnBu', vmin=0.6, vmax=1)\n",
        "title = plt.title('Correlation Heatmap')"
      ]
    },
    {
      "cell_type": "code",
      "execution_count": null,
      "id": "2ed1e689-cf71-4c43-b6f7-95d81d716aa9",
      "metadata": {
        "tags": [],
        "id": "2ed1e689-cf71-4c43-b6f7-95d81d716aa9"
      },
      "outputs": [],
      "source": [
        "# from https://stackoverflow.com/questions/17778394/list-highest-correlation-pairs-from-a-large-correlation-matrix-in-pandas\n",
        "def get_redundant_pairs(df):\n",
        "    '''Get diagonal and lower triangular pairs of correlation matrix'''\n",
        "    pairs_to_drop = set()\n",
        "    cols = df.columns\n",
        "    for i in range(0, df.shape[1]):\n",
        "        for j in range(0, i+1):\n",
        "            pairs_to_drop.add((cols[i], cols[j]))\n",
        "    return pairs_to_drop\n",
        "\n",
        "def get_top_abs_correlations(df, n=5):\n",
        "    au_corr = df.corr().abs().unstack()\n",
        "    labels_to_drop = get_redundant_pairs(df)\n",
        "    au_corr = au_corr.drop(labels=labels_to_drop).sort_values(ascending=False)\n",
        "    return au_corr[0:n]\n",
        "\n",
        "print(\"Top Absolute Correlations\")\n",
        "print(get_top_abs_correlations(ames_data.select_dtypes(exclude=['object']), 5))"
      ]
    },
    {
      "cell_type": "markdown",
      "id": "pC6AKqwdSK9A",
      "metadata": {
        "id": "pC6AKqwdSK9A"
      },
      "source": [
        "To tackle this issue when building up a statistical model, one of the correlated variables can be dropped or the two variables can be combined into a single regressor, for example by averaging or summing them into a new single variable."
      ]
    },
    {
      "cell_type": "markdown",
      "id": "cSAI5ETh5Y8R",
      "metadata": {
        "id": "cSAI5ETh5Y8R"
      },
      "source": [
        "# 6. Training/Test split, K-Fold & alternatives <a name=\"Training/Test\"></a>\n",
        "\n"
      ]
    },
    {
      "cell_type": "markdown",
      "id": "lt9j1HNuNpiS",
      "metadata": {
        "id": "lt9j1HNuNpiS"
      },
      "source": [
        " # 6.1 Classic Traning/Test split <a name=\"Classic_Training/Test_split\"></a>"
      ]
    },
    {
      "cell_type": "markdown",
      "id": "D49TrDxcOpZt",
      "metadata": {
        "id": "D49TrDxcOpZt"
      },
      "source": [
        "The dataset can be divided into a training and a test dataset. The training dataset is used to estimate the model, while the test dataset is used to assess and evaluate the model.\n",
        "<br/> Function ```train_test_split``` from ```sklearn.model_selection``` can be used. In this function, *test_size* represents the proportion of the test size and\n",
        "*random_state* allows to choose if to shuffle or not the observations before applying the split."
      ]
    },
    {
      "cell_type": "code",
      "execution_count": null,
      "id": "UwhKN3aZSY6q",
      "metadata": {
        "id": "UwhKN3aZSY6q",
        "tags": []
      },
      "outputs": [],
      "source": [
        "# Select explanatory and dependent variable\n",
        "X = ames_data.loc[:, 'Order':'Sale Condition']\n",
        "# Equivalent to X = ames_data.iloc[:, 0:81]\n",
        "y = ames_data.loc[:, 'SalePrice']\n",
        "# Equivalent to y = ames_data.iloc[:, 82]\n",
        "\n",
        "# Split of the dataset into train and test datasets\n",
        "X_train, X_test, y_train, y_test = train_test_split(X, y, test_size=0.25, random_state=42)"
      ]
    },
    {
      "cell_type": "markdown",
      "id": "r6eO1dFIOmiO",
      "metadata": {
        "id": "r6eO1dFIOmiO"
      },
      "source": [
        "# 6.2 K-Fold Cross-Validation: Random division in *K* groups <a name=\"K-fold_cross_validation\"></a>"
      ]
    },
    {
      "cell_type": "markdown",
      "id": "ymx6WqE_6rmj",
      "metadata": {
        "id": "ymx6WqE_6rmj"
      },
      "source": [
        "The K-Fold Cross-Validation technique tackles some limitations of a regular split between a train and test datasets. It ensures:\n",
        "<br/>\n",
        "1. A more accurate estimate of model performance. All observations will appear both in the training and test sets. That is particularly useful for limited datasets.  \n",
        "2. A reduction to the risk of overfitting given that the model is trained with different subsets.\n",
        "\n",
        "Practically, the classic K-Fold Cross-Validation splits the dataset randomly into *K* groups.\n",
        "The funtion ```KFold``` from package ```sklearn.model_selection``` is used."
      ]
    },
    {
      "cell_type": "code",
      "execution_count": null,
      "id": "19450690",
      "metadata": {
        "id": "19450690",
        "tags": []
      },
      "outputs": [],
      "source": [
        "# Split of the dataset using the function KFold\n",
        "data_to_split = ames_data\n",
        "kf = KFold(n_splits=100,shuffle=True,random_state=42)\n",
        "\n",
        "selected_folds = range(3)  # Example: selecting the 1st to 3rd folds\n",
        "for fold_index, (train_index, test_index) in enumerate(kf.split(X)):\n",
        "    if fold_index in selected_folds:\n",
        "        print(f\"Fold {fold_index}:\")\n",
        "        print(f\"  Train indices: {train_index}\")\n",
        "        print(f\"  Test indices: {test_index}\")"
      ]
    },
    {
      "cell_type": "markdown",
      "id": "ORslw1Hqt0qu",
      "metadata": {
        "id": "ORslw1Hqt0qu"
      },
      "source": [
        "# 6.3 Stratified K-fold & Leave-one-out Cross Validation  <a name=\"Stratified_Kfold_&_LOOC_validation\"></a>"
      ]
    },
    {
      "cell_type": "markdown",
      "id": "CFtOFHF4Ku68",
      "metadata": {
        "id": "CFtOFHF4Ku68"
      },
      "source": [
        "As presented in the theoretical session, in order to avoid having outliers that concentrate mainly in one of the groups (and thus having a distorion effect), we can use the Stratified K-Fold Cross-Validation.\n",
        "<br/>With this method, observations are ordered on the basis of the dependent variable and are divided into groups, with the first group containing the observations with the biggest values for the dependent variable and the last group containing the smallest ones. Then, *k* new groups are formed, taking observations from each existing group.\n",
        "<br/>To implement this methodology, function ```StratifiedKFold```  from package ```sklearn``` is available. Additional information is available for the [function](https://scikit-learn.org/stable/modules/generated/sklearn.model_selection.StratifiedKFold.html) and package [sklearn](https://scikit-learn.org/stable/)."
      ]
    },
    {
      "cell_type": "code",
      "execution_count": null,
      "id": "e7rAwH7xhPaE",
      "metadata": {
        "id": "e7rAwH7xhPaE",
        "tags": []
      },
      "outputs": [],
      "source": [
        "# KFold split\n",
        "data_to_split = ames_data\n",
        "skf = StratifiedKFold(n_splits=100)"
      ]
    },
    {
      "cell_type": "markdown",
      "id": "K4kqEGlU27Tt",
      "metadata": {
        "id": "K4kqEGlU27Tt"
      },
      "source": [
        "Another method is called Leave-one-out cross validation (documentation [here](https://scikit-learn.org/stable/modules/generated/sklearn.model_selection.LeaveOneOut.html)). Here, the training dataset is composed by all but one observation.\n",
        "<br/>```LeaveOneOut``` is used to implement the method."
      ]
    },
    {
      "cell_type": "code",
      "execution_count": null,
      "id": "PlH0dWTP4NAH",
      "metadata": {
        "id": "PlH0dWTP4NAH",
        "tags": []
      },
      "outputs": [],
      "source": [
        "# Leave-one-out split\n",
        "data_to_split = ames_data\n",
        "leave_one_out = LeaveOneOut()\n",
        "selected_folds = range(3)  # Example: selecting the 1st to 3rd folds\n",
        "for fold_index, (train_index, test_index) in enumerate(leave_one_out.split(X)):\n",
        "    if fold_index in selected_folds:\n",
        "        print(f\"Fold {fold_index}:\")\n",
        "        print(f\"  Train indices: {train_index}\")\n",
        "        print(f\"  Test indices: {test_index}\")"
      ]
    },
    {
      "cell_type": "markdown",
      "id": "Ytsd8F1J-9P5",
      "metadata": {
        "id": "Ytsd8F1J-9P5"
      },
      "source": [
        "# 7. Summary <a name=\"Summary\"></a>\n",
        "\n",
        "In this first programming session, the following concepts were covered:\n",
        "\n",
        "- Import packages\n",
        "- Investigate a dataset\n",
        "- Deal with outliers and NaN values\n",
        "- Investigate correlation between variables\n",
        "- Split the dataset into train and test subsets\n",
        "\n",
        "These concepts were first introduced during the theoretical session and will be useful for the following modules.\n",
        "Thanks for your attention and see you for the following session!"
      ]
    }
  ],
  "metadata": {
    "colab": {
      "provenance": [],
      "include_colab_link": true
    },
    "kernelspec": {
      "display_name": "Python 3 (ipykernel)",
      "language": "python",
      "name": "python3"
    },
    "language_info": {
      "codemirror_mode": {
        "name": "ipython",
        "version": 3
      },
      "file_extension": ".py",
      "mimetype": "text/x-python",
      "name": "python",
      "nbconvert_exporter": "python",
      "pygments_lexer": "ipython3",
      "version": "3.11.5"
    }
  },
  "nbformat": 4,
  "nbformat_minor": 5
}